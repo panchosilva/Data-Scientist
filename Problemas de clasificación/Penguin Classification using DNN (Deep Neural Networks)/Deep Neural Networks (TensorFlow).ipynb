{
    "metadata": {
        "kernelspec": {
            "name": "python3",
            "display_name": "Python 3 (ipykernel)",
            "language": "python"
        },
        "language_info": {
            "name": "python",
            "version": "3.8.12",
            "mimetype": "text/x-python",
            "codemirror_mode": {
                "name": "ipython",
                "version": 3
            },
            "pygments_lexer": "ipython3",
            "nbconvert_exporter": "python",
            "file_extension": ".py"
        },
        "kernel_info": {
            "name": "python38-azureml"
        },
        "nteract": {
            "version": "nteract-front-end@1.0.0"
        }
    },
    "nbformat_minor": 2,
    "nbformat": 4,
    "cells": [
        {
            "cell_type": "markdown",
            "source": [
                "# Deep Learning with TensorFlow\n",
                "\n",
                "Classical machine learning relies on using statistics to determine relationships between features and labels, and can be very effective for creating predictive models. However, a massive growth in the availability of data coupled with advances in the computing technology required to process it has led to the emergence of new machine learning techniques that mimic the way the brain processes information in a structure called an artificial neural network.\n",
                "\n",
                "TensorFlow is a framework for creating machine learning models, including deep neural networks (DNNs). In this example, we'll use Tensorflow to create a simple neural network that classifies penguins into species based on the length and depth of their culmen (bill), their flipper length, and their body mass.\n",
                "\n",
                "> **Citation**: The penguins dataset used in the this exercise is a subset of data collected and made available by [Dr. Kristen\n",
                "Gorman](https://www.uaf.edu/cfos/people/faculty/detail/kristen-gorman.php)\n",
                "and the [Palmer Station, Antarctica LTER](https://pal.lternet.edu/), a\n",
                "member of the [Long Term Ecological Research\n",
                "Network](https://lternet.edu/).\n",
                "\n",
                "## Explore the dataset\n",
                "\n",
                "Before we start using TensorFlow to create a model, let's load the data we need from the Palmer Islands penguins dataset, which contains observations of three different species of penguin.\n",
                "\n",
                "> **Note**: In reality, you can solve the penguin classification problem easily using classical machine learning techniques without the need for a deep learning model; but it's a useful, easy to understand dataset with which to demonstrate the principles of neural networks in this notebook."
            ],
            "metadata": {
                "azdata_cell_guid": "15df076e-bcdd-4ff5-a56b-adacf69d4006"
            }
        },
        {
            "cell_type": "code",
            "source": [
                "import pandas as pd\r\n",
                "\r\n",
                "# load the training dataset (excluding rows with null values)\r\n",
                "penguins = pd.read_csv('penguins.csv').dropna()\r\n",
                "\r\n",
                "# Deep Learning models work best when features are on similar scales\r\n",
                "# In a real solution, we'd implement some custom normalization for each feature, but to keep things simple\r\n",
                "# we'll just rescale the FlipperLength and BodyMass so they're on a similar scale to the bill measurements\r\n",
                "penguins['FlipperLength'] = penguins['FlipperLength']/10\r\n",
                "penguins['BodyMass'] = penguins['BodyMass']/100\r\n",
                "\r\n",
                "# The dataset is too small to be useful for deep learning\r\n",
                "# So we'll oversample it to increase its size\r\n",
                "for i in range(1,3):\r\n",
                "    penguins = penguins.append(penguins)\r\n",
                "\r\n",
                "# Display a random sample of 10 observations\r\n",
                "sample = penguins.sample(10)\r\n",
                "sample"
            ],
            "metadata": {
                "gather": {
                    "logged": 1663175526458
                },
                "azdata_cell_guid": "556ea96a-18bf-4401-9c8b-da5f058aaa79",
                "language": "python"
            },
            "outputs": [
                {
                    "name": "stderr",
                    "text": "C:\\Users\\silva\\AppData\\Local\\Temp/ipykernel_25084/2070975810.py:15: FutureWarning: The frame.append method is deprecated and will be removed from pandas in a future version. Use pandas.concat instead.\n  penguins = penguins.append(penguins)\nC:\\Users\\silva\\AppData\\Local\\Temp/ipykernel_25084/2070975810.py:15: FutureWarning: The frame.append method is deprecated and will be removed from pandas in a future version. Use pandas.concat instead.\n  penguins = penguins.append(penguins)\n",
                    "output_type": "stream"
                },
                {
                    "data": {
                        "text/plain": "     CulmenLength  CulmenDepth  FlipperLength  BodyMass  Species\n268          44.5         15.7           21.7     48.75        1\n21           37.7         18.7           18.0     36.00        0\n278          51.3         19.2           19.3     36.50        2\n87           36.9         18.6           18.9     35.00        0\n126          38.8         17.6           19.1     32.75        0\n157          46.5         13.5           21.0     45.50        1\n267          55.1         16.0           23.0     58.50        1\n20           37.8         18.3           17.4     34.00        0\n98           33.1         16.1           17.8     29.00        0\n334          50.2         18.8           20.2     38.00        2",
                        "text/html": "<div>\n<style scoped>\n    .dataframe tbody tr th:only-of-type {\n        vertical-align: middle;\n    }\n\n    .dataframe tbody tr th {\n        vertical-align: top;\n    }\n\n    .dataframe thead th {\n        text-align: right;\n    }\n</style>\n<table border=\"1\" class=\"dataframe\">\n  <thead>\n    <tr style=\"text-align: right;\">\n      <th></th>\n      <th>CulmenLength</th>\n      <th>CulmenDepth</th>\n      <th>FlipperLength</th>\n      <th>BodyMass</th>\n      <th>Species</th>\n    </tr>\n  </thead>\n  <tbody>\n    <tr>\n      <th>268</th>\n      <td>44.5</td>\n      <td>15.7</td>\n      <td>21.7</td>\n      <td>48.75</td>\n      <td>1</td>\n    </tr>\n    <tr>\n      <th>21</th>\n      <td>37.7</td>\n      <td>18.7</td>\n      <td>18.0</td>\n      <td>36.00</td>\n      <td>0</td>\n    </tr>\n    <tr>\n      <th>278</th>\n      <td>51.3</td>\n      <td>19.2</td>\n      <td>19.3</td>\n      <td>36.50</td>\n      <td>2</td>\n    </tr>\n    <tr>\n      <th>87</th>\n      <td>36.9</td>\n      <td>18.6</td>\n      <td>18.9</td>\n      <td>35.00</td>\n      <td>0</td>\n    </tr>\n    <tr>\n      <th>126</th>\n      <td>38.8</td>\n      <td>17.6</td>\n      <td>19.1</td>\n      <td>32.75</td>\n      <td>0</td>\n    </tr>\n    <tr>\n      <th>157</th>\n      <td>46.5</td>\n      <td>13.5</td>\n      <td>21.0</td>\n      <td>45.50</td>\n      <td>1</td>\n    </tr>\n    <tr>\n      <th>267</th>\n      <td>55.1</td>\n      <td>16.0</td>\n      <td>23.0</td>\n      <td>58.50</td>\n      <td>1</td>\n    </tr>\n    <tr>\n      <th>20</th>\n      <td>37.8</td>\n      <td>18.3</td>\n      <td>17.4</td>\n      <td>34.00</td>\n      <td>0</td>\n    </tr>\n    <tr>\n      <th>98</th>\n      <td>33.1</td>\n      <td>16.1</td>\n      <td>17.8</td>\n      <td>29.00</td>\n      <td>0</td>\n    </tr>\n    <tr>\n      <th>334</th>\n      <td>50.2</td>\n      <td>18.8</td>\n      <td>20.2</td>\n      <td>38.00</td>\n      <td>2</td>\n    </tr>\n  </tbody>\n</table>\n</div>"
                    },
                    "metadata": {},
                    "execution_count": 1,
                    "output_type": "execute_result"
                }
            ],
            "execution_count": 1
        },
        {
            "cell_type": "code",
            "source": [
                "penguins.shape"
            ],
            "metadata": {
                "jupyter": {
                    "source_hidden": false,
                    "outputs_hidden": false
                },
                "nteract": {
                    "transient": {
                        "deleting": false
                    }
                },
                "gather": {
                    "logged": 1663173862601
                },
                "azdata_cell_guid": "2e71deb2-2e66-428c-9c5a-156319bfe9bf",
                "language": "python"
            },
            "outputs": [
                {
                    "data": {
                        "text/plain": "(1368, 5)"
                    },
                    "metadata": {},
                    "execution_count": 2,
                    "output_type": "execute_result"
                }
            ],
            "execution_count": 2
        },
        {
            "cell_type": "code",
            "source": [
                "penguins.Species.value_counts('%')"
            ],
            "metadata": {
                "jupyter": {
                    "source_hidden": false,
                    "outputs_hidden": false
                },
                "nteract": {
                    "transient": {
                        "deleting": false
                    }
                },
                "gather": {
                    "logged": 1663173974160
                },
                "azdata_cell_guid": "2162c94f-1911-48f2-aaf8-8afc7d3f615e",
                "language": "python"
            },
            "outputs": [
                {
                    "data": {
                        "text/plain": "0    0.441520\n1    0.359649\n2    0.198830\nName: Species, dtype: float64"
                    },
                    "metadata": {},
                    "execution_count": 3,
                    "output_type": "execute_result"
                }
            ],
            "execution_count": 3
        },
        {
            "cell_type": "markdown",
            "source": [
                "The **Species** column is the label our model will predict. Each label value represents a class of penguin species, encoded as 0, 1, or 2. The following code shows the actual species to which these class labels corrrespond."
            ],
            "metadata": {
                "azdata_cell_guid": "23f15507-c701-482f-8bd2-2d5ea18508da"
            }
        },
        {
            "cell_type": "code",
            "source": [
                "penguin_classes = ['Adelie', 'Gentoo', 'Chinstrap']\r\n",
                "print(sample.columns[0:5].values, 'SpeciesName')\r\n",
                "for index, row in penguins.sample(10).iterrows():\r\n",
                "    print('[',row[0], row[1], row[2],row[3], int(row[4]), ']',penguin_classes[int(row[-1])])"
            ],
            "metadata": {
                "tags": [],
                "gather": {
                    "logged": 1663174294551
                },
                "azdata_cell_guid": "cba824aa-85ef-4c44-bdca-082cf5d0cc7b",
                "language": "python"
            },
            "outputs": [
                {
                    "name": "stdout",
                    "text": "['CulmenLength' 'CulmenDepth' 'FlipperLength' 'BodyMass' 'Species'] SpeciesName\n[ 43.1 19.2 19.7 35.0 0 ] Adelie\n[ 40.5 18.9 18.0 39.5 0 ] Adelie\n[ 39.6 18.8 19.0 46.0 0 ] Adelie\n[ 39.2 18.6 19.0 42.5 0 ] Adelie\n[ 36.5 16.6 18.1 28.5 0 ] Adelie\n[ 40.1 18.9 18.8 43.0 0 ] Adelie\n[ 34.1 18.1 19.3 34.75 0 ] Adelie\n[ 37.6 19.1 19.4 37.5 0 ] Adelie\n[ 38.2 20.0 19.0 39.0 0 ] Adelie\n[ 37.3 16.8 19.2 30.0 0 ] Adelie\n",
                    "output_type": "stream"
                }
            ],
            "execution_count": 4
        },
        {
            "cell_type": "markdown",
            "source": [
                "As is common in a supervised learning problem, we'll split the dataset into a set of records with which to train the model, and a smaller set with which to validate the trained model."
            ],
            "metadata": {
                "azdata_cell_guid": "d31bd91b-53a2-4ff7-b302-092872c6b65a"
            }
        },
        {
            "cell_type": "code",
            "source": [
                "from sklearn.model_selection import train_test_split\r\n",
                "\r\n",
                "features = ['CulmenLength','CulmenDepth','FlipperLength','BodyMass']\r\n",
                "label = 'Species'\r\n",
                "# Split data 70%-30% into training set and test set\r\n",
                "x_train, x_test, y_train, y_test = train_test_split(penguins[features].values,\r\n",
                "                                                    penguins[label].values,\r\n",
                "                                                    test_size=0.30,\r\n",
                "                                                    random_state=0)\r\n",
                "\r\n",
                "print ('Training Set: %d, Test Set: %d \\n' % (len(x_train), len(x_test)))\r\n",
                "print(\"Sample of features and labels:\")\r\n",
                "\r\n",
                "# Take a look at the first 25 training features and corresponding labels\r\n",
                "for n in range(0,5):\r\n",
                "    print(x_train[n], y_train[n], '(' + penguin_classes[y_train[n]] + ')')"
            ],
            "metadata": {
                "tags": [],
                "gather": {
                    "logged": 1663174551162
                },
                "azdata_cell_guid": "a34d6e5c-4be4-4858-83bf-1d660175d095",
                "language": "python"
            },
            "outputs": [
                {
                    "name": "stdout",
                    "text": "Training Set: 957, Test Set: 411 \n\nSample of features and labels:\n[51.1 16.5 22.5 52.5] 1 (Gentoo)\n[50.7 19.7 20.3 40.5] 2 (Chinstrap)\n[49.5 16.2 22.9 58. ] 1 (Gentoo)\n[39.3 20.6 19.  36.5] 0 (Adelie)\n[42.5 20.7 19.7 45. ] 0 (Adelie)\n",
                    "output_type": "stream"
                }
            ],
            "execution_count": 5
        },
        {
            "cell_type": "markdown",
            "source": [
                "The *features* are the measurements for each penguin observation, and the *label* is a numeric value that indicates the species of penguin that the observation represents (Adelie, Gentoo, or Chinstrap).\n",
                "\n",
                "## Install and import TensorFlow libraries\n",
                "\n",
                "Since we plan to use TensorFlow to create our penguin classifier, we'll need to run the following two cells to install and import the libraries we intend to use.\n",
                "\n",
                "> **Note** *Keras* is an abstraction layer over the base TensorFlow API. In most common machine learning scenarios, you can use Keras to simplify your code."
            ],
            "metadata": {
                "azdata_cell_guid": "99c71971-abdf-4749-ac45-5eabc5a039da"
            }
        },
        {
            "cell_type": "code",
            "source": [
                "!pip install --upgrade tensorflow\r\n",
                "!pip install --upgrade httplib2"
            ],
            "metadata": {
                "azdata_cell_guid": "86954b94-37a8-49cd-97c5-8c39e8fca71f",
                "language": "python"
            },
            "outputs": [
                {
                    "name": "stdout",
                    "text": "Requirement already satisfied: tensorflow in c:\\users\\silva\\anaconda3\\lib\\site-packages (2.10.0)\nRequirement already satisfied: keras<2.11,>=2.10.0 in c:\\users\\silva\\anaconda3\\lib\\site-packages (from tensorflow) (2.10.0)\nRequirement already satisfied: six>=1.12.0 in c:\\users\\silva\\anaconda3\\lib\\site-packages (from tensorflow) (1.16.0)\nRequirement already satisfied: h5py>=2.9.0 in c:\\users\\silva\\anaconda3\\lib\\site-packages (from tensorflow) (3.6.0)\nRequirement already satisfied: grpcio<2.0,>=1.24.3 in c:\\users\\silva\\anaconda3\\lib\\site-packages (from tensorflow) (1.43.0)\nRequirement already satisfied: numpy>=1.20 in c:\\users\\silva\\anaconda3\\lib\\site-packages (from tensorflow) (1.20.3)\nRequirement already satisfied: tensorflow-io-gcs-filesystem>=0.23.1 in c:\\users\\silva\\anaconda3\\lib\\site-packages (from tensorflow) (0.27.0)\nRequirement already satisfied: gast<=0.4.0,>=0.2.1 in c:\\users\\silva\\anaconda3\\lib\\site-packages (from tensorflow) (0.4.0)\nRequirement already satisfied: google-pasta>=0.1.1 in c:\\users\\silva\\anaconda3\\lib\\site-packages (from tensorflow) (0.2.0)\nRequirement already satisfied: tensorboard<2.11,>=2.10 in c:\\users\\silva\\anaconda3\\lib\\site-packages (from tensorflow) (2.10.0)\nRequirement already satisfied: opt-einsum>=2.3.2 in c:\\users\\silva\\anaconda3\\lib\\site-packages (from tensorflow) (3.3.0)\nRequirement already satisfied: libclang>=13.0.0 in c:\\users\\silva\\anaconda3\\lib\\site-packages (from tensorflow) (14.0.6)\nRequirement already satisfied: typing-extensions>=3.6.6 in c:\\users\\silva\\anaconda3\\lib\\site-packages (from tensorflow) (3.10.0.2)\nRequirement already satisfied: tensorflow-estimator<2.11,>=2.10.0 in c:\\users\\silva\\anaconda3\\lib\\site-packages (from tensorflow) (2.10.0)\nRequirement already satisfied: keras-preprocessing>=1.1.1 in c:\\users\\silva\\anaconda3\\lib\\site-packages (from tensorflow) (1.1.2)\nRequirement already satisfied: astunparse>=1.6.0 in c:\\users\\silva\\anaconda3\\lib\\site-packages (from tensorflow) (1.6.3)\nRequirement already satisfied: setuptools in c:\\users\\silva\\anaconda3\\lib\\site-packages (from tensorflow) (59.5.0)\nRequirement already satisfied: packaging in c:\\users\\silva\\anaconda3\\lib\\site-packages (from tensorflow) (21.3)\nRequirement already satisfied: protobuf<3.20,>=3.9.2 in c:\\users\\silva\\anaconda3\\lib\\site-packages (from tensorflow) (3.17.3)\nRequirement already satisfied: absl-py>=1.0.0 in c:\\users\\silva\\anaconda3\\lib\\site-packages (from tensorflow) (1.0.0)\nRequirement already satisfied: flatbuffers>=2.0 in c:\\users\\silva\\anaconda3\\lib\\site-packages (from tensorflow) (2.0.7)\nRequirement already satisfied: termcolor>=1.1.0 in c:\\users\\silva\\anaconda3\\lib\\site-packages (from tensorflow) (2.0.1)\nRequirement already satisfied: wrapt>=1.11.0 in c:\\users\\silva\\anaconda3\\lib\\site-packages (from tensorflow) (1.13.3)\nRequirement already satisfied: wheel<1.0,>=0.23.0 in c:\\users\\silva\\anaconda3\\lib\\site-packages (from astunparse>=1.6.0->tensorflow) (0.37.1)\nRequirement already satisfied: markdown>=2.6.8 in c:\\users\\silva\\anaconda3\\lib\\site-packages (from tensorboard<2.11,>=2.10->tensorflow) (3.3.6)\nRequirement already satisfied: requests<3,>=2.21.0 in c:\\users\\silva\\anaconda3\\lib\\site-packages (from tensorboard<2.11,>=2.10->tensorflow) (2.27.1)\nRequirement already satisfied: google-auth-oauthlib<0.5,>=0.4.1 in c:\\users\\silva\\anaconda3\\lib\\site-packages (from tensorboard<2.11,>=2.10->tensorflow) (0.4.6)\nRequirement already satisfied: tensorboard-data-server<0.7.0,>=0.6.0 in c:\\users\\silva\\anaconda3\\lib\\site-packages (from tensorboard<2.11,>=2.10->tensorflow) (0.6.1)\nRequirement already satisfied: tensorboard-plugin-wit>=1.6.0 in c:\\users\\silva\\anaconda3\\lib\\site-packages (from tensorboard<2.11,>=2.10->tensorflow) (1.8.1)\nRequirement already satisfied: werkzeug>=1.0.1 in c:\\users\\silva\\anaconda3\\lib\\site-packages (from tensorboard<2.11,>=2.10->tensorflow) (2.0.2)\nRequirement already satisfied: google-auth<3,>=1.6.3 in c:\\users\\silva\\anaconda3\\lib\\site-packages (from tensorboard<2.11,>=2.10->tensorflow) (1.34.0)\nRequirement already satisfied: pyparsing!=3.0.5,>=2.0.2 in c:\\users\\silva\\anaconda3\\lib\\site-packages (from packaging->tensorflow) (3.0.4)\nRequirement already satisfied: pyasn1-modules>=0.2.1 in c:\\users\\silva\\anaconda3\\lib\\site-packages (from google-auth<3,>=1.6.3->tensorboard<2.11,>=2.10->tensorflow) (0.2.8)\nRequirement already satisfied: cachetools<5.0,>=2.0.0 in c:\\users\\silva\\anaconda3\\lib\\site-packages (from google-auth<3,>=1.6.3->tensorboard<2.11,>=2.10->tensorflow) (4.2.2)\nRequirement already satisfied: rsa<5,>=3.1.4 in c:\\users\\silva\\anaconda3\\lib\\site-packages (from google-auth<3,>=1.6.3->tensorboard<2.11,>=2.10->tensorflow) (4.7.2)\nRequirement already satisfied: requests-oauthlib>=0.7.0 in c:\\users\\silva\\anaconda3\\lib\\site-packages (from google-auth-oauthlib<0.5,>=0.4.1->tensorboard<2.11,>=2.10->tensorflow) (1.3.1)\nRequirement already satisfied: importlib-metadata>=4.4 in c:\\users\\silva\\anaconda3\\lib\\site-packages (from markdown>=2.6.8->tensorboard<2.11,>=2.10->tensorflow) (4.8.2)\nRequirement already satisfied: urllib3<1.27,>=1.21.1 in c:\\users\\silva\\anaconda3\\lib\\site-packages (from requests<3,>=2.21.0->tensorboard<2.11,>=2.10->tensorflow) (1.26.8)\nRequirement already satisfied: idna<4,>=2.5 in c:\\users\\silva\\anaconda3\\lib\\site-packages (from requests<3,>=2.21.0->tensorboard<2.11,>=2.10->tensorflow) (2.10)\nRequirement already satisfied: certifi>=2017.4.17 in c:\\users\\silva\\anaconda3\\lib\\site-packages (from requests<3,>=2.21.0->tensorboard<2.11,>=2.10->tensorflow) (2021.10.8)\nRequirement already satisfied: charset-normalizer~=2.0.0 in c:\\users\\silva\\anaconda3\\lib\\site-packages (from requests<3,>=2.21.0->tensorboard<2.11,>=2.10->tensorflow) (2.0.4)\nRequirement already satisfied: zipp>=0.5 in c:\\users\\silva\\anaconda3\\lib\\site-packages (from importlib-metadata>=4.4->markdown>=2.6.8->tensorboard<2.11,>=2.10->tensorflow) (3.7.0)\nRequirement already satisfied: pyasn1<0.5.0,>=0.4.6 in c:\\users\\silva\\anaconda3\\lib\\site-packages (from pyasn1-modules>=0.2.1->google-auth<3,>=1.6.3->tensorboard<2.11,>=2.10->tensorflow) (0.4.8)\nRequirement already satisfied: oauthlib>=3.0.0 in c:\\users\\silva\\anaconda3\\lib\\site-packages (from requests-oauthlib>=0.7.0->google-auth-oauthlib<0.5,>=0.4.1->tensorboard<2.11,>=2.10->tensorflow) (3.2.0)\n",
                    "output_type": "stream"
                },
                {
                    "name": "stdout",
                    "text": "Requirement already satisfied: httplib2 in c:\\users\\silva\\anaconda3\\lib\\site-packages (0.19.1)\nCollecting httplib2\n  Using cached httplib2-0.20.4-py3-none-any.whl (96 kB)\nRequirement already satisfied: pyparsing!=3.0.0,!=3.0.1,!=3.0.2,!=3.0.3,<4,>=2.4.2 in c:\\users\\silva\\anaconda3\\lib\\site-packages (from httplib2) (3.0.4)\nInstalling collected packages: httplib2\n  Attempting uninstall: httplib2\n    Found existing installation: httplib2 0.19.1\n    Uninstalling httplib2-0.19.1:\n      Successfully uninstalled httplib2-0.19.1\nSuccessfully installed httplib2-0.20.4\n",
                    "output_type": "stream"
                }
            ],
            "execution_count": 12
        },
        {
            "cell_type": "code",
            "source": [
                "import tensorflow\r\n",
                "from tensorflow import keras\r\n",
                "from tensorflow.keras import models\r\n",
                "from tensorflow.keras.models import Sequential\r\n",
                "from tensorflow.keras.layers import Dense\r\n",
                "from tensorflow.keras import utils\r\n",
                "from tensorflow.keras import optimizers\r\n",
                "\r\n",
                "# Set random seed for reproducability\r\n",
                "tensorflow.random.set_seed(0)\r\n",
                "\r\n",
                "print(\"Libraries imported.\")\r\n",
                "print('Keras version:',keras.__version__)\r\n",
                "print('TensorFlow version:',tensorflow.__version__)"
            ],
            "metadata": {
                "tags": [],
                "gather": {
                    "logged": 1663174733921
                },
                "azdata_cell_guid": "860cf592-98fa-42fc-b635-4fb2bd0c641c",
                "language": "python"
            },
            "outputs": [
                {
                    "name": "stdout",
                    "text": "Libraries imported.\nKeras version: 2.10.0\nTensorFlow version: 2.10.0\n",
                    "output_type": "stream"
                }
            ],
            "execution_count": 14
        },
        {
            "cell_type": "markdown",
            "source": [
                "## Prepare the data for TensorFlow\n",
                "\n",
                "We've already loaded our data and split it into training and validation datasets. However, we need to do some further data preparation so that our data will work correctly with TensorFlow. Specifically, we need to set the data type of our features to 32-bit floating point numbers, and specify that the labels represent categorical classes rather than numeric values."
            ],
            "metadata": {
                "azdata_cell_guid": "207e1b75-f6e8-4c37-89fd-34415d78c40a"
            }
        },
        {
            "cell_type": "code",
            "source": [
                "# Set data types for float features (because TensorFlow needs it)\r\n",
                "x_train = x_train.astype('float32')\r\n",
                "x_test = x_test.astype('float32')\r\n",
                "\r\n",
                "# Set data types for categorical labels\r\n",
                "y_train = utils.to_categorical(y_train) #Notar que la librería utils al parecer viene instalada por defecto\r\n",
                "y_test = utils.to_categorical(y_test)\r\n",
                "print('Ready...')"
            ],
            "metadata": {
                "tags": [],
                "azdata_cell_guid": "10238c27-5cb6-429c-96c6-475312b2f9eb",
                "language": "python"
            },
            "outputs": [
                {
                    "name": "stdout",
                    "text": "Ready...\n",
                    "output_type": "stream"
                }
            ],
            "execution_count": 15
        },
        {
            "cell_type": "code",
            "source": [
                "print(f\"x_train data_type: {type(x_train)}\")\r\n",
                "print(f\"y_train data_type: {type(y_train)}\")"
            ],
            "metadata": {
                "jupyter": {
                    "source_hidden": false,
                    "outputs_hidden": false
                },
                "nteract": {
                    "transient": {
                        "deleting": false
                    }
                },
                "gather": {
                    "logged": 1663174923533
                },
                "azdata_cell_guid": "3602c853-d236-4860-b3cc-42ddcee35590",
                "language": "python"
            },
            "outputs": [
                {
                    "name": "stdout",
                    "text": "x_train data_type: <class 'numpy.ndarray'>\ny_train data_type: <class 'numpy.ndarray'>\n",
                    "output_type": "stream"
                }
            ],
            "execution_count": 16
        },
        {
            "cell_type": "code",
            "source": [
                "y_test[0:10]"
            ],
            "metadata": {
                "jupyter": {
                    "source_hidden": false,
                    "outputs_hidden": false
                },
                "nteract": {
                    "transient": {
                        "deleting": false
                    }
                },
                "gather": {
                    "logged": 1663174945815
                },
                "azdata_cell_guid": "a94ea06b-8550-44b1-a312-8044a12d97c5",
                "language": "python"
            },
            "outputs": [
                {
                    "data": {
                        "text/plain": "array([[1., 0., 0.],\n       [1., 0., 0.],\n       [0., 1., 0.],\n       [1., 0., 0.],\n       [1., 0., 0.],\n       [0., 1., 0.],\n       [0., 0., 1.],\n       [0., 0., 1.],\n       [0., 0., 1.],\n       [1., 0., 0.]], dtype=float32)"
                    },
                    "metadata": {},
                    "execution_count": 17,
                    "output_type": "execute_result"
                }
            ],
            "execution_count": 17
        },
        {
            "cell_type": "markdown",
            "source": [
                "## Define a neural network\n",
                "\n",
                "Now we're ready to define our neural network. In this case, we'll create a network that consists of 3 fully-connected layers:\n",
                "* An input layer that receives an input value for each feature (in this case, the four penguin measurements) and applies a *ReLU* activation function.\n",
                "* A hidden layer that receives ten inputs and applies a *ReLU* activation function.\n",
                "* An output layer that uses a *SoftMax* activation function to generate an output for each penguin species (which represent the classification probabilities for each of the three possible penguin species). Softmax functions produce a vector with probability values that sum to 1."
            ],
            "metadata": {
                "azdata_cell_guid": "1552a9b8-ef4e-43ce-83e6-c918bda166a0"
            }
        },
        {
            "cell_type": "code",
            "source": [
                "# Define a classifier network\r\n",
                "hl = 10 # Number of hidden layer nodes\r\n",
                "\r\n",
                "model = Sequential()\r\n",
                "model.add(Dense(hl, input_dim=len(features), activation='relu')) #input\r\n",
                "model.add(Dense(hl, input_dim=hl, activation='relu')) #hidden layers, ojo que son 10, no 3, por tanto la red completa tiene 12\r\n",
                "model.add(Dense(len(penguin_classes), input_dim=hl, activation='softmax')) #output\r\n",
                "\r\n",
                "print(model.summary())"
            ],
            "metadata": {
                "tags": [],
                "gather": {
                    "logged": 1663175320037
                },
                "azdata_cell_guid": "4baaf3e7-567d-48a2-be8e-afe0a7818c30",
                "language": "python"
            },
            "outputs": [
                {
                    "name": "stdout",
                    "text": "Model: \"sequential\"\n",
                    "output_type": "stream"
                },
                {
                    "name": "stdout",
                    "text": "_________________________________________________________________\n",
                    "output_type": "stream"
                },
                {
                    "name": "stdout",
                    "text": " Layer (type)                Output Shape              Param #   \n",
                    "output_type": "stream"
                },
                {
                    "name": "stdout",
                    "text": "=================================================================\n",
                    "output_type": "stream"
                },
                {
                    "name": "stdout",
                    "text": " dense (Dense)               (None, 10)                50        \n",
                    "output_type": "stream"
                },
                {
                    "name": "stdout",
                    "text": "                                                                 \n",
                    "output_type": "stream"
                },
                {
                    "name": "stdout",
                    "text": " dense_1 (Dense)             (None, 10)                110       \n",
                    "output_type": "stream"
                },
                {
                    "name": "stdout",
                    "text": "                                                                 \n",
                    "output_type": "stream"
                },
                {
                    "name": "stdout",
                    "text": " dense_2 (Dense)             (None, 3)                 33        \n",
                    "output_type": "stream"
                },
                {
                    "name": "stdout",
                    "text": "                                                                 \n",
                    "output_type": "stream"
                },
                {
                    "name": "stdout",
                    "text": "=================================================================\n",
                    "output_type": "stream"
                },
                {
                    "name": "stdout",
                    "text": "Total params: 193\n",
                    "output_type": "stream"
                },
                {
                    "name": "stdout",
                    "text": "Trainable params: 193\n",
                    "output_type": "stream"
                },
                {
                    "name": "stdout",
                    "text": "Non-trainable params: 0\n",
                    "output_type": "stream"
                },
                {
                    "name": "stdout",
                    "text": "_________________________________________________________________\n",
                    "output_type": "stream"
                },
                {
                    "name": "stdout",
                    "text": "None\n",
                    "output_type": "stream"
                }
            ],
            "execution_count": 18
        },
        {
            "cell_type": "markdown",
            "source": [
                "## Train the model\n",
                "\n",
                "To train the model, we need to repeatedly feed the training values forward through the network, use a loss function to calculate the loss, use an optimizer to backpropagate the weight and bias value adjustments, and validate the model using the test data we withheld.\n",
                "\n",
                "To do this, we'll apply an Adam optimizer to a categorical cross-entropy loss function iteratively over 50 epochs."
            ],
            "metadata": {
                "azdata_cell_guid": "25a17c7f-8e76-4678-8aa8-a36e5cb56f2e"
            }
        },
        {
            "cell_type": "code",
            "source": [
                "#hyper-parameters for optimizer\r\n",
                "learning_rate = 0.001 # it is what you read in the name!\r\n",
                "opt = optimizers.Adam(lr=learning_rate)\r\n",
                "\r\n",
                "model.compile(loss='categorical_crossentropy',\r\n",
                "              optimizer=opt,\r\n",
                "              metrics=['accuracy'])\r\n",
                "\r\n",
                "# Train the model over 50 epochs using 10-observation batches and using the test holdout dataset for validation\r\n",
                "num_epochs = 50\r\n",
                "history = model.fit(x_train, y_train, epochs=num_epochs, batch_size=10, validation_data=(x_test, y_test))"
            ],
            "metadata": {
                "scrolled": true,
                "tags": [],
                "gather": {
                    "logged": 1663175455136
                },
                "azdata_cell_guid": "70b7b1fc-d020-41eb-b0e2-06fe3b743014",
                "language": "python"
            },
            "outputs": [
                {
                    "name": "stdout",
                    "text": "Epoch 1/50\n",
                    "output_type": "stream"
                },
                {
                    "name": "stderr",
                    "text": "C:\\Users\\silva\\anaconda3\\lib\\site-packages\\keras\\optimizers\\optimizer_v2\\adam.py:114: UserWarning: The `lr` argument is deprecated, use `learning_rate` instead.\n  super().__init__(name, **kwargs)\n",
                    "output_type": "stream"
                },
                {
                    "name": "stdout",
                    "text": "\r 1/96 [..............................] - ETA: 35s - loss: 17.1753 - accuracy: 0.2000",
                    "output_type": "stream"
                },
                {
                    "name": "stdout",
                    "text": "\b\b\b\b\b\b\b\b\b\b\b\b\b\b\b\b\b\b\b\b\b\b\b\b\b\b\b\b\b\b\b\b\b\b\b\b\b\b\b\b\b\b\b\b\b\b\b\b\b\b\b\b\b\b\b\b\b\b\b\b\b\b\b\b\b\b\b\b\b\b\b\b\b\b\b\b\b\b\b\b\b\b\b\b\r48/96 [==============>...............] - ETA: 0s - loss: 8.5944 - accuracy: 0.3604  ",
                    "output_type": "stream"
                },
                {
                    "name": "stdout",
                    "text": "\b\b\b\b\b\b\b\b\b\b\b\b\b\b\b\b\b\b\b\b\b\b\b\b\b\b\b\b\b\b\b\b\b\b\b\b\b\b\b\b\b\b\b\b\b\b\b\b\b\b\b\b\b\b\b\b\b\b\b\b\b\b\b\b\b\b\b\b\b\b\b\b\b\b\b\b\b\b\b\b\b\b\r96/96 [==============================] - 1s 3ms/step - loss: 5.1657 - accuracy: 0.3417 - val_loss: 0.9022 - val_accuracy: 0.4842\n",
                    "output_type": "stream"
                },
                {
                    "name": "stdout",
                    "text": "Epoch 2/50\n",
                    "output_type": "stream"
                },
                {
                    "name": "stdout",
                    "text": "\r 1/96 [..............................] - ETA: 0s - loss: 1.0763 - accuracy: 0.2000",
                    "output_type": "stream"
                },
                {
                    "name": "stdout",
                    "text": "\b\b\b\b\b\b\b\b\b\b\b\b\b\b\b\b\b\b\b\b\b\b\b\b\b\b\b\b\b\b\b\b\b\b\b\b\b\b\b\b\b\b\b\b\b\b\b\b\b\b\b\b\b\b\b\b\b\b\b\b\b\b\b\b\b\b\b\b\b\b\b\b\b\b\b\b\b\b\b\b\b\b\r62/96 [==================>...........] - ETA: 0s - loss: 0.7610 - accuracy: 0.6355",
                    "output_type": "stream"
                },
                {
                    "name": "stdout",
                    "text": "\b\b\b\b\b\b\b\b\b\b\b\b\b\b\b\b\b\b\b\b\b\b\b\b\b\b\b\b\b\b\b\b\b\b\b\b\b\b\b\b\b\b\b\b\b\b\b\b\b\b\b\b\b\b\b\b\b\b\b\b\b\b\b\b\b\b\b\b\b\b\b\b\b\b\b\b\b\b\b\b\b\b\r96/96 [==============================] - 0s 2ms/step - loss: 0.7043 - accuracy: 0.6844 - val_loss: 0.5770 - val_accuracy: 0.7883\n",
                    "output_type": "stream"
                },
                {
                    "name": "stdout",
                    "text": "Epoch 3/50\n",
                    "output_type": "stream"
                },
                {
                    "name": "stdout",
                    "text": "\r 1/96 [..............................] - ETA: 0s - loss: 0.5152 - accuracy: 0.8000",
                    "output_type": "stream"
                },
                {
                    "name": "stdout",
                    "text": "\b\b\b\b\b\b\b\b\b\b\b\b\b\b\b\b\b\b\b\b\b\b\b\b\b\b\b\b\b\b\b\b\b\b\b\b\b\b\b\b\b\b\b\b\b\b\b\b\b\b\b\b\b\b\b\b\b\b\b\b\b\b\b\b\b\b\b\b\b\b\b\b\b\b\b\b\b\b\b\b\b\b\r61/96 [==================>...........] - ETA: 0s - loss: 0.5121 - accuracy: 0.8180",
                    "output_type": "stream"
                },
                {
                    "name": "stdout",
                    "text": "\b\b\b\b\b\b\b\b\b\b\b\b\b\b\b\b\b\b\b\b\b\b\b\b\b\b\b\b\b\b\b\b\b\b\b\b\b\b\b\b\b\b\b\b\b\b\b\b\b\b\b\b\b\b\b\b\b\b\b\b\b\b\b\b\b\b\b\b\b\b\b\b\b\b\b\b\b\b\b\b\b\b\r96/96 [==============================] - 0s 1ms/step - loss: 0.4924 - accuracy: 0.8349 - val_loss: 0.4434 - val_accuracy: 0.9148\n",
                    "output_type": "stream"
                },
                {
                    "name": "stdout",
                    "text": "Epoch 4/50\n",
                    "output_type": "stream"
                },
                {
                    "name": "stdout",
                    "text": "\r 1/96 [..............................] - ETA: 0s - loss: 0.4049 - accuracy: 0.9000",
                    "output_type": "stream"
                },
                {
                    "name": "stdout",
                    "text": "\b\b\b\b\b\b\b\b\b\b\b\b\b\b\b\b\b\b\b\b\b\b\b\b\b\b\b\b\b\b\b\b\b\b\b\b\b\b\b\b\b\b\b\b\b\b\b\b\b\b\b\b\b\b\b\b\b\b\b\b\b\b\b\b\b\b\b\b\b\b\b\b\b\b\b\b\b\b\b\b\b\b\r65/96 [===================>..........] - ETA: 0s - loss: 0.3844 - accuracy: 0.9062",
                    "output_type": "stream"
                },
                {
                    "name": "stdout",
                    "text": "\b\b\b\b\b\b\b\b\b\b\b\b\b\b\b\b\b\b\b\b\b\b\b\b\b\b\b\b\b\b\b\b\b\b\b\b\b\b\b\b\b\b\b\b\b\b\b\b\b\b\b\b\b\b\b\b\b\b\b\b\b\b\b\b\b\b\b\b\b\b\b\b\b\b\b\b\b\b\b\b\b\b\r96/96 [==============================] - 0s 1ms/step - loss: 0.3744 - accuracy: 0.9195 - val_loss: 0.3490 - val_accuracy: 0.9221\n",
                    "output_type": "stream"
                },
                {
                    "name": "stdout",
                    "text": "Epoch 5/50\n",
                    "output_type": "stream"
                },
                {
                    "name": "stdout",
                    "text": "\r 1/96 [..............................] - ETA: 0s - loss: 0.3379 - accuracy: 1.0000",
                    "output_type": "stream"
                },
                {
                    "name": "stdout",
                    "text": "\b\b\b\b\b\b\b\b\b\b\b\b\b\b\b\b\b\b\b\b\b\b\b\b\b\b\b\b\b\b\b\b\b\b\b\b\b\b\b\b\b\b\b\b\b\b\b\b\b\b\b\b\b\b\b\b\b\b\b\b\b\b\b\b\b\b\b\b\b\b\b\b\b\b\b\b\b\b\b\b\b\b\r56/96 [================>.............] - ETA: 0s - loss: 0.3045 - accuracy: 0.9554",
                    "output_type": "stream"
                },
                {
                    "name": "stdout",
                    "text": "\b\b\b\b\b\b\b\b\b\b\b\b\b\b\b\b\b\b\b\b\b\b\b\b\b\b\b\b\b\b\b\b\b\b\b\b\b\b\b\b\b\b\b\b\b\b\b\b\b\b\b\b\b\b\b\b\b\b\b\b\b\b\b\b\b\b\b\b\b\b\b\b\b\b\b\b\b\b\b\b\b\b\r96/96 [==============================] - 0s 2ms/step - loss: 0.2972 - accuracy: 0.9572 - val_loss: 0.2926 - val_accuracy: 0.9416\n",
                    "output_type": "stream"
                },
                {
                    "name": "stdout",
                    "text": "Epoch 6/50\n",
                    "output_type": "stream"
                },
                {
                    "name": "stdout",
                    "text": "\r 1/96 [..............................] - ETA: 0s - loss: 0.1994 - accuracy: 1.0000",
                    "output_type": "stream"
                },
                {
                    "name": "stdout",
                    "text": "\b\b\b\b\b\b\b\b\b\b\b\b\b\b\b\b\b\b\b\b\b\b\b\b\b\b\b\b\b\b\b\b\b\b\b\b\b\b\b\b\b\b\b\b\b\b\b\b\b\b\b\b\b\b\b\b\b\b\b\b\b\b\b\b\b\b\b\b\b\b\b\b\b\b\b\b\b\b\b\b\b\b\r50/96 [==============>...............] - ETA: 0s - loss: 0.2725 - accuracy: 0.9580",
                    "output_type": "stream"
                },
                {
                    "name": "stdout",
                    "text": "\b\b\b\b\b\b\b\b\b\b\b\b\b\b\b\b\b\b\b\b\b\b\b\b\b\b\b\b\b\b\b\b\b\b\b\b\b\b\b\b\b\b\b\b\b\b\b\b\b\b\b\b\b\b\b\b\b\b\b\b\b\b\b\b\b\b\b\b\b\b\b\b\b\b\b\b\b\b\b\b\b\b\r96/96 [==============================] - 0s 2ms/step - loss: 0.2490 - accuracy: 0.9634 - val_loss: 0.2431 - val_accuracy: 0.9611\n",
                    "output_type": "stream"
                },
                {
                    "name": "stdout",
                    "text": "Epoch 7/50\n",
                    "output_type": "stream"
                },
                {
                    "name": "stdout",
                    "text": "\r 1/96 [..............................] - ETA: 0s - loss: 0.1087 - accuracy: 1.0000",
                    "output_type": "stream"
                },
                {
                    "name": "stdout",
                    "text": "\b\b\b\b\b\b\b\b\b\b\b\b\b\b\b\b\b\b\b\b\b\b\b\b\b\b\b\b\b\b\b\b\b\b\b\b\b\b\b\b\b\b\b\b\b\b\b\b\b\b\b\b\b\b\b\b\b\b\b\b\b\b\b\b\b\b\b\b\b\b\b\b\b\b\b\b\b\b\b\b\b\b\r55/96 [================>.............] - ETA: 0s - loss: 0.2236 - accuracy: 0.9582",
                    "output_type": "stream"
                },
                {
                    "name": "stdout",
                    "text": "\b\b\b\b\b\b\b\b\b\b\b\b\b\b\b\b\b\b\b\b\b\b\b\b\b\b\b\b\b\b\b\b\b\b\b\b\b\b\b\b\b\b\b\b\b\b\b\b\b\b\b\b\b\b\b\b\b\b\b\b\b\b\b\b\b\b\b\b\b\b\b\b\b\b\b\b\b\b\b\b\b\b\r96/96 [==============================] - 0s 2ms/step - loss: 0.2086 - accuracy: 0.9687 - val_loss: 0.2114 - val_accuracy: 0.9562\n",
                    "output_type": "stream"
                },
                {
                    "name": "stdout",
                    "text": "Epoch 8/50\n",
                    "output_type": "stream"
                },
                {
                    "name": "stdout",
                    "text": "\r 1/96 [..............................] - ETA: 0s - loss: 0.2926 - accuracy: 0.9000",
                    "output_type": "stream"
                },
                {
                    "name": "stdout",
                    "text": "\b\b\b\b\b\b\b\b\b\b\b\b\b\b\b\b\b\b\b\b\b\b\b\b\b\b\b\b\b\b\b\b\b\b\b\b\b\b\b\b\b\b\b\b\b\b\b\b\b\b\b\b\b\b\b\b\b\b\b\b\b\b\b\b\b\b\b\b\b\b\b\b\b\b\b\b\b\b\b\b\b\b\r54/96 [===============>..............] - ETA: 0s - loss: 0.1801 - accuracy: 0.9667",
                    "output_type": "stream"
                },
                {
                    "name": "stdout",
                    "text": "\b\b\b\b\b\b\b\b\b\b\b\b\b\b\b\b\b\b\b\b\b\b\b\b\b\b\b\b\b\b\b\b\b\b\b\b\b\b\b\b\b\b\b\b\b\b\b\b\b\b\b\b\b\b\b\b\b\b\b\b\b\b\b\b\b\b\b\b\b\b\b\b\b\b\b\b\b\b\b\b\b\b\r96/96 [==============================] - 0s 2ms/step - loss: 0.1777 - accuracy: 0.9707 - val_loss: 0.1805 - val_accuracy: 0.9684\n",
                    "output_type": "stream"
                },
                {
                    "name": "stdout",
                    "text": "Epoch 9/50\n",
                    "output_type": "stream"
                },
                {
                    "name": "stdout",
                    "text": "\r 1/96 [..............................] - ETA: 0s - loss: 0.1198 - accuracy: 1.0000",
                    "output_type": "stream"
                },
                {
                    "name": "stdout",
                    "text": "\b\b\b\b\b\b\b\b\b\b\b\b\b\b\b\b\b\b\b\b\b\b\b\b\b\b\b\b\b\b\b\b\b\b\b\b\b\b\b\b\b\b\b\b\b\b\b\b\b\b\b\b\b\b\b\b\b\b\b\b\b\b\b\b\b\b\b\b\b\b\b\b\b\b\b\b\b\b\b\b\b\b\r60/96 [=================>............] - ETA: 0s - loss: 0.1666 - accuracy: 0.9683",
                    "output_type": "stream"
                },
                {
                    "name": "stdout",
                    "text": "\b\b\b\b\b\b\b\b\b\b\b\b\b\b\b\b\b\b\b\b\b\b\b\b\b\b\b\b\b\b\b\b\b\b\b\b\b\b\b\b\b\b\b\b\b\b\b\b\b\b\b\b\b\b\b\b\b\b\b\b\b\b\b\b\b\b\b\b\b\b\b\b\b\b\b\b\b\b\b\b\b\b\r96/96 [==============================] - 0s 1ms/step - loss: 0.1579 - accuracy: 0.9749 - val_loss: 0.1634 - val_accuracy: 0.9757\n",
                    "output_type": "stream"
                },
                {
                    "name": "stdout",
                    "text": "Epoch 10/50\n",
                    "output_type": "stream"
                },
                {
                    "name": "stdout",
                    "text": "\r 1/96 [..............................] - ETA: 0s - loss: 0.1239 - accuracy: 1.0000",
                    "output_type": "stream"
                },
                {
                    "name": "stdout",
                    "text": "\b\b\b\b\b\b\b\b\b\b\b\b\b\b\b\b\b\b\b\b\b\b\b\b\b\b\b\b\b\b\b\b\b\b\b\b\b\b\b\b\b\b\b\b\b\b\b\b\b\b\b\b\b\b\b\b\b\b\b\b\b\b\b\b\b\b\b\b\b\b\b\b\b\b\b\b\b\b\b\b\b\b\r63/96 [==================>...........] - ETA: 0s - loss: 0.1453 - accuracy: 0.9714",
                    "output_type": "stream"
                },
                {
                    "name": "stdout",
                    "text": "\b\b\b\b\b\b\b\b\b\b\b\b\b\b\b\b\b\b\b\b\b\b\b\b\b\b\b\b\b\b\b\b\b\b\b\b\b\b\b\b\b\b\b\b\b\b\b\b\b\b\b\b\b\b\b\b\b\b\b\b\b\b\b\b\b\b\b\b\b\b\b\b\b\b\b\b\b\b\b\b\b\b\r96/96 [==============================] - 0s 1ms/step - loss: 0.1387 - accuracy: 0.9749 - val_loss: 0.1426 - val_accuracy: 0.9732\n",
                    "output_type": "stream"
                },
                {
                    "name": "stdout",
                    "text": "Epoch 11/50\n",
                    "output_type": "stream"
                },
                {
                    "name": "stdout",
                    "text": "\r 1/96 [..............................] - ETA: 0s - loss: 0.0646 - accuracy: 1.0000",
                    "output_type": "stream"
                },
                {
                    "name": "stdout",
                    "text": "\b\b\b\b\b\b\b\b\b\b\b\b\b\b\b\b\b\b\b\b\b\b\b\b\b\b\b\b\b\b\b\b\b\b\b\b\b\b\b\b\b\b\b\b\b\b\b\b\b\b\b\b\b\b\b\b\b\b\b\b\b\b\b\b\b\b\b\b\b\b\b\b\b\b\b\b\b\b\b\b\b\b\r61/96 [==================>...........] - ETA: 0s - loss: 0.1287 - accuracy: 0.9738",
                    "output_type": "stream"
                },
                {
                    "name": "stdout",
                    "text": "\b\b\b\b\b\b\b\b\b\b\b\b\b\b\b\b\b\b\b\b\b\b\b\b\b\b\b\b\b\b\b\b\b\b\b\b\b\b\b\b\b\b\b\b\b\b\b\b\b\b\b\b\b\b\b\b\b\b\b\b\b\b\b\b\b\b\b\b\b\b\b\b\b\b\b\b\b\b\b\b\b\b\r96/96 [==============================] - 0s 1ms/step - loss: 0.1250 - accuracy: 0.9749 - val_loss: 0.1292 - val_accuracy: 0.9781\n",
                    "output_type": "stream"
                },
                {
                    "name": "stdout",
                    "text": "Epoch 12/50\n",
                    "output_type": "stream"
                },
                {
                    "name": "stdout",
                    "text": "\r 1/96 [..............................] - ETA: 0s - loss: 0.0846 - accuracy: 1.0000",
                    "output_type": "stream"
                },
                {
                    "name": "stdout",
                    "text": "\b\b\b\b\b\b\b\b\b\b\b\b\b\b\b\b\b\b\b\b\b\b\b\b\b\b\b\b\b\b\b\b\b\b\b\b\b\b\b\b\b\b\b\b\b\b\b\b\b\b\b\b\b\b\b\b\b\b\b\b\b\b\b\b\b\b\b\b\b\b\b\b\b\b\b\b\b\b\b\b\b\b\r58/96 [=================>............] - ETA: 0s - loss: 0.1121 - accuracy: 0.9759",
                    "output_type": "stream"
                },
                {
                    "name": "stdout",
                    "text": "\b\b\b\b\b\b\b\b\b\b\b\b\b\b\b\b\b\b\b\b\b\b\b\b\b\b\b\b\b\b\b\b\b\b\b\b\b\b\b\b\b\b\b\b\b\b\b\b\b\b\b\b\b\b\b\b\b\b\b\b\b\b\b\b\b\b\b\b\b\b\b\b\b\b\b\b\b\b\b\b\b\b\r96/96 [==============================] - 0s 1ms/step - loss: 0.1124 - accuracy: 0.9781 - val_loss: 0.1213 - val_accuracy: 0.9757\n",
                    "output_type": "stream"
                },
                {
                    "name": "stdout",
                    "text": "Epoch 13/50\n",
                    "output_type": "stream"
                },
                {
                    "name": "stdout",
                    "text": "\r 1/96 [..............................] - ETA: 0s - loss: 0.2248 - accuracy: 0.9000",
                    "output_type": "stream"
                },
                {
                    "name": "stdout",
                    "text": "\b\b\b\b\b\b\b\b\b\b\b\b\b\b\b\b\b\b\b\b\b\b\b\b\b\b\b\b\b\b\b\b\b\b\b\b\b\b\b\b\b\b\b\b\b\b\b\b\b\b\b\b\b\b\b\b\b\b\b\b\b\b\b\b\b\b\b\b\b\b\b\b\b\b\b\b\b\b\b\b\b\b\r55/96 [================>.............] - ETA: 0s - loss: 0.1056 - accuracy: 0.9764",
                    "output_type": "stream"
                },
                {
                    "name": "stdout",
                    "text": "\b\b\b\b\b\b\b\b\b\b\b\b\b\b\b\b\b\b\b\b\b\b\b\b\b\b\b\b\b\b\b\b\b\b\b\b\b\b\b\b\b\b\b\b\b\b\b\b\b\b\b\b\b\b\b\b\b\b\b\b\b\b\b\b\b\b\b\b\b\b\b\b\b\b\b\b\b\b\b\b\b\b\r96/96 [==============================] - 0s 1ms/step - loss: 0.0996 - accuracy: 0.9781 - val_loss: 0.1077 - val_accuracy: 0.9757\n",
                    "output_type": "stream"
                },
                {
                    "name": "stdout",
                    "text": "Epoch 14/50\n",
                    "output_type": "stream"
                },
                {
                    "name": "stdout",
                    "text": "\r 1/96 [..............................] - ETA: 0s - loss: 0.0737 - accuracy: 1.0000",
                    "output_type": "stream"
                },
                {
                    "name": "stdout",
                    "text": "\b\b\b\b\b\b\b\b\b\b\b\b\b\b\b\b\b\b\b\b\b\b\b\b\b\b\b\b\b\b\b\b\b\b\b\b\b\b\b\b\b\b\b\b\b\b\b\b\b\b\b\b\b\b\b\b\b\b\b\b\b\b\b\b\b\b\b\b\b\b\b\b\b\b\b\b\b\b\b\b\b\b\r55/96 [================>.............] - ETA: 0s - loss: 0.0952 - accuracy: 0.9782",
                    "output_type": "stream"
                },
                {
                    "name": "stdout",
                    "text": "\b\b\b\b\b\b\b\b\b\b\b\b\b\b\b\b\b\b\b\b\b\b\b\b\b\b\b\b\b\b\b\b\b\b\b\b\b\b\b\b\b\b\b\b\b\b\b\b\b\b\b\b\b\b\b\b\b\b\b\b\b\b\b\b\b\b\b\b\b\b\b\b\b\b\b\b\b\b\b\b\b\b\r96/96 [==============================] - 0s 1ms/step - loss: 0.0939 - accuracy: 0.9781 - val_loss: 0.1008 - val_accuracy: 0.9830\n",
                    "output_type": "stream"
                },
                {
                    "name": "stdout",
                    "text": "Epoch 15/50\n",
                    "output_type": "stream"
                },
                {
                    "name": "stdout",
                    "text": "\r 1/96 [..............................] - ETA: 0s - loss: 0.0321 - accuracy: 1.0000",
                    "output_type": "stream"
                },
                {
                    "name": "stdout",
                    "text": "\b\b\b\b\b\b\b\b\b\b\b\b\b\b\b\b\b\b\b\b\b\b\b\b\b\b\b\b\b\b\b\b\b\b\b\b\b\b\b\b\b\b\b\b\b\b\b\b\b\b\b\b\b\b\b\b\b\b\b\b\b\b\b\b\b\b\b\b\b\b\b\b\b\b\b\b\b\b\b\b\b\b\r57/96 [================>.............] - ETA: 0s - loss: 0.0907 - accuracy: 0.9825",
                    "output_type": "stream"
                },
                {
                    "name": "stdout",
                    "text": "\b\b\b\b\b\b\b\b\b\b\b\b\b\b\b\b\b\b\b\b\b\b\b\b\b\b\b\b\b\b\b\b\b\b\b\b\b\b\b\b\b\b\b\b\b\b\b\b\b\b\b\b\b\b\b\b\b\b\b\b\b\b\b\b\b\b\b\b\b\b\b\b\b\b\b\b\b\b\b\b\b\b\r96/96 [==============================] - 0s 1ms/step - loss: 0.0855 - accuracy: 0.9854 - val_loss: 0.0994 - val_accuracy: 0.9757\n",
                    "output_type": "stream"
                },
                {
                    "name": "stdout",
                    "text": "Epoch 16/50\n",
                    "output_type": "stream"
                },
                {
                    "name": "stdout",
                    "text": "\r 1/96 [..............................] - ETA: 0s - loss: 0.0427 - accuracy: 1.0000",
                    "output_type": "stream"
                },
                {
                    "name": "stdout",
                    "text": "\b\b\b\b\b\b\b\b\b\b\b\b\b\b\b\b\b\b\b\b\b\b\b\b\b\b\b\b\b\b\b\b\b\b\b\b\b\b\b\b\b\b\b\b\b\b\b\b\b\b\b\b\b\b\b\b\b\b\b\b\b\b\b\b\b\b\b\b\b\b\b\b\b\b\b\b\b\b\b\b\b\b\r61/96 [==================>...........] - ETA: 0s - loss: 0.0901 - accuracy: 0.9738",
                    "output_type": "stream"
                },
                {
                    "name": "stdout",
                    "text": "\b\b\b\b\b\b\b\b\b\b\b\b\b\b\b\b\b\b\b\b\b\b\b\b\b\b\b\b\b\b\b\b\b\b\b\b\b\b\b\b\b\b\b\b\b\b\b\b\b\b\b\b\b\b\b\b\b\b\b\b\b\b\b\b\b\b\b\b\b\b\b\b\b\b\b\b\b\b\b\b\b\b\r96/96 [==============================] - 0s 1ms/step - loss: 0.0895 - accuracy: 0.9760 - val_loss: 0.0989 - val_accuracy: 0.9757\n",
                    "output_type": "stream"
                },
                {
                    "name": "stdout",
                    "text": "Epoch 17/50\n",
                    "output_type": "stream"
                },
                {
                    "name": "stdout",
                    "text": "\r 1/96 [..............................] - ETA: 0s - loss: 0.0254 - accuracy: 1.0000",
                    "output_type": "stream"
                },
                {
                    "name": "stdout",
                    "text": "\b\b\b\b\b\b\b\b\b\b\b\b\b\b\b\b\b\b\b\b\b\b\b\b\b\b\b\b\b\b\b\b\b\b\b\b\b\b\b\b\b\b\b\b\b\b\b\b\b\b\b\b\b\b\b\b\b\b\b\b\b\b\b\b\b\b\b\b\b\b\b\b\b\b\b\b\b\b\b\b\b\b\r65/96 [===================>..........] - ETA: 0s - loss: 0.0803 - accuracy: 0.9800",
                    "output_type": "stream"
                },
                {
                    "name": "stdout",
                    "text": "\b\b\b\b\b\b\b\b\b\b\b\b\b\b\b\b\b\b\b\b\b\b\b\b\b\b\b\b\b\b\b\b\b\b\b\b\b\b\b\b\b\b\b\b\b\b\b\b\b\b\b\b\b\b\b\b\b\b\b\b\b\b\b\b\b\b\b\b\b\b\b\b\b\b\b\b\b\b\b\b\b\b\r96/96 [==============================] - 0s 1ms/step - loss: 0.0777 - accuracy: 0.9812 - val_loss: 0.0817 - val_accuracy: 0.9830\n",
                    "output_type": "stream"
                },
                {
                    "name": "stdout",
                    "text": "Epoch 18/50\n",
                    "output_type": "stream"
                },
                {
                    "name": "stdout",
                    "text": "\r 1/96 [..............................] - ETA: 0s - loss: 0.0226 - accuracy: 1.0000",
                    "output_type": "stream"
                },
                {
                    "name": "stdout",
                    "text": "\b\b\b\b\b\b\b\b\b\b\b\b\b\b\b\b\b\b\b\b\b\b\b\b\b\b\b\b\b\b\b\b\b\b\b\b\b\b\b\b\b\b\b\b\b\b\b\b\b\b\b\b\b\b\b\b\b\b\b\b\b\b\b\b\b\b\b\b\b\b\b\b\b\b\b\b\b\b\b\b\b\b\r60/96 [=================>............] - ETA: 0s - loss: 0.0714 - accuracy: 0.9850",
                    "output_type": "stream"
                },
                {
                    "name": "stdout",
                    "text": "\b\b\b\b\b\b\b\b\b\b\b\b\b\b\b\b\b\b\b\b\b\b\b\b\b\b\b\b\b\b\b\b\b\b\b\b\b\b\b\b\b\b\b\b\b\b\b\b\b\b\b\b\b\b\b\b\b\b\b\b\b\b\b\b\b\b\b\b\b\b\b\b\b\b\b\b\b\b\b\b\b\b\r96/96 [==============================] - 0s 1ms/step - loss: 0.0714 - accuracy: 0.9843 - val_loss: 0.0782 - val_accuracy: 0.9854\n",
                    "output_type": "stream"
                },
                {
                    "name": "stdout",
                    "text": "Epoch 19/50\n",
                    "output_type": "stream"
                },
                {
                    "name": "stdout",
                    "text": "\r 1/96 [..............................] - ETA: 0s - loss: 0.1064 - accuracy: 1.0000",
                    "output_type": "stream"
                },
                {
                    "name": "stdout",
                    "text": "\b\b\b\b\b\b\b\b\b\b\b\b\b\b\b\b\b\b\b\b\b\b\b\b\b\b\b\b\b\b\b\b\b\b\b\b\b\b\b\b\b\b\b\b\b\b\b\b\b\b\b\b\b\b\b\b\b\b\b\b\b\b\b\b\b\b\b\b\b\b\b\b\b\b\b\b\b\b\b\b\b\b\r56/96 [================>.............] - ETA: 0s - loss: 0.0633 - accuracy: 0.9911",
                    "output_type": "stream"
                },
                {
                    "name": "stdout",
                    "text": "\b\b\b\b\b\b\b\b\b\b\b\b\b\b\b\b\b\b\b\b\b\b\b\b\b\b\b\b\b\b\b\b\b\b\b\b\b\b\b\b\b\b\b\b\b\b\b\b\b\b\b\b\b\b\b\b\b\b\b\b\b\b\b\b\b\b\b\b\b\b\b\b\b\b\b\b\b\b\b\b\b\b\r96/96 [==============================] - 0s 1ms/step - loss: 0.0684 - accuracy: 0.9864 - val_loss: 0.0730 - val_accuracy: 0.9878\n",
                    "output_type": "stream"
                },
                {
                    "name": "stdout",
                    "text": "Epoch 20/50\n",
                    "output_type": "stream"
                },
                {
                    "name": "stdout",
                    "text": "\r 1/96 [..............................] - ETA: 0s - loss: 0.0382 - accuracy: 1.0000",
                    "output_type": "stream"
                },
                {
                    "name": "stdout",
                    "text": "\b\b\b\b\b\b\b\b\b\b\b\b\b\b\b\b\b\b\b\b\b\b\b\b\b\b\b\b\b\b\b\b\b\b\b\b\b\b\b\b\b\b\b\b\b\b\b\b\b\b\b\b\b\b\b\b\b\b\b\b\b\b\b\b\b\b\b\b\b\b\b\b\b\b\b\b\b\b\b\b\b\b\r64/96 [===================>..........] - ETA: 0s - loss: 0.0621 - accuracy: 0.9906",
                    "output_type": "stream"
                },
                {
                    "name": "stdout",
                    "text": "\b\b\b\b\b\b\b\b\b\b\b\b\b\b\b\b\b\b\b\b\b\b\b\b\b\b\b\b\b\b\b\b\b\b\b\b\b\b\b\b\b\b\b\b\b\b\b\b\b\b\b\b\b\b\b\b\b\b\b\b\b\b\b\b\b\b\b\b\b\b\b\b\b\b\b\b\b\b\b\b\b\b\r96/96 [==============================] - 0s 1ms/step - loss: 0.0656 - accuracy: 0.9854 - val_loss: 0.0759 - val_accuracy: 0.9757\n",
                    "output_type": "stream"
                },
                {
                    "name": "stdout",
                    "text": "Epoch 21/50\n",
                    "output_type": "stream"
                },
                {
                    "name": "stdout",
                    "text": "\r 1/96 [..............................] - ETA: 0s - loss: 0.0175 - accuracy: 1.0000",
                    "output_type": "stream"
                },
                {
                    "name": "stdout",
                    "text": "\b\b\b\b\b\b\b\b\b\b\b\b\b\b\b\b\b\b\b\b\b\b\b\b\b\b\b\b\b\b\b\b\b\b\b\b\b\b\b\b\b\b\b\b\b\b\b\b\b\b\b\b\b\b\b\b\b\b\b\b\b\b\b\b\b\b\b\b\b\b\b\b\b\b\b\b\b\b\b\b\b\b\r64/96 [===================>..........] - ETA: 0s - loss: 0.0666 - accuracy: 0.9797",
                    "output_type": "stream"
                },
                {
                    "name": "stdout",
                    "text": "\b\b\b\b\b\b\b\b\b\b\b\b\b\b\b\b\b\b\b\b\b\b\b\b\b\b\b\b\b\b\b\b\b\b\b\b\b\b\b\b\b\b\b\b\b\b\b\b\b\b\b\b\b\b\b\b\b\b\b\b\b\b\b\b\b\b\b\b\b\b\b\b\b\b\b\b\b\b\b\b\b\b\r96/96 [==============================] - 0s 1ms/step - loss: 0.0632 - accuracy: 0.9854 - val_loss: 0.0871 - val_accuracy: 0.9635\n",
                    "output_type": "stream"
                },
                {
                    "name": "stdout",
                    "text": "Epoch 22/50\n",
                    "output_type": "stream"
                },
                {
                    "name": "stdout",
                    "text": "\r 1/96 [..............................] - ETA: 0s - loss: 0.0107 - accuracy: 1.0000",
                    "output_type": "stream"
                },
                {
                    "name": "stdout",
                    "text": "\b\b\b\b\b\b\b\b\b\b\b\b\b\b\b\b\b\b\b\b\b\b\b\b\b\b\b\b\b\b\b\b\b\b\b\b\b\b\b\b\b\b\b\b\b\b\b\b\b\b\b\b\b\b\b\b\b\b\b\b\b\b\b\b\b\b\b\b\b\b\b\b\b\b\b\b\b\b\b\b\b\b\r64/96 [===================>..........] - ETA: 0s - loss: 0.0598 - accuracy: 0.9812",
                    "output_type": "stream"
                },
                {
                    "name": "stdout",
                    "text": "\b\b\b\b\b\b\b\b\b\b\b\b\b\b\b\b\b\b\b\b\b\b\b\b\b\b\b\b\b\b\b\b\b\b\b\b\b\b\b\b\b\b\b\b\b\b\b\b\b\b\b\b\b\b\b\b\b\b\b\b\b\b\b\b\b\b\b\b\b\b\b\b\b\b\b\b\b\b\b\b\b\b\r96/96 [==============================] - 0s 1ms/step - loss: 0.0598 - accuracy: 0.9833 - val_loss: 0.0711 - val_accuracy: 0.9830\n",
                    "output_type": "stream"
                },
                {
                    "name": "stdout",
                    "text": "Epoch 23/50\n",
                    "output_type": "stream"
                },
                {
                    "name": "stdout",
                    "text": "\r 1/96 [..............................] - ETA: 0s - loss: 0.2106 - accuracy: 0.9000",
                    "output_type": "stream"
                },
                {
                    "name": "stdout",
                    "text": "\b\b\b\b\b\b\b\b\b\b\b\b\b\b\b\b\b\b\b\b\b\b\b\b\b\b\b\b\b\b\b\b\b\b\b\b\b\b\b\b\b\b\b\b\b\b\b\b\b\b\b\b\b\b\b\b\b\b\b\b\b\b\b\b\b\b\b\b\b\b\b\b\b\b\b\b\b\b\b\b\b\b\r60/96 [=================>............] - ETA: 0s - loss: 0.0587 - accuracy: 0.9833",
                    "output_type": "stream"
                },
                {
                    "name": "stdout",
                    "text": "\b\b\b\b\b\b\b\b\b\b\b\b\b\b\b\b\b\b\b\b\b\b\b\b\b\b\b\b\b\b\b\b\b\b\b\b\b\b\b\b\b\b\b\b\b\b\b\b\b\b\b\b\b\b\b\b\b\b\b\b\b\b\b\b\b\b\b\b\b\b\b\b\b\b\b\b\b\b\b\b\b\b\r96/96 [==============================] - 0s 1ms/step - loss: 0.0572 - accuracy: 0.9843 - val_loss: 0.0649 - val_accuracy: 0.9854\n",
                    "output_type": "stream"
                },
                {
                    "name": "stdout",
                    "text": "Epoch 24/50\n",
                    "output_type": "stream"
                },
                {
                    "name": "stdout",
                    "text": "\r 1/96 [..............................] - ETA: 0s - loss: 0.0682 - accuracy: 1.0000",
                    "output_type": "stream"
                },
                {
                    "name": "stdout",
                    "text": "\b\b\b\b\b\b\b\b\b\b\b\b\b\b\b\b\b\b\b\b\b\b\b\b\b\b\b\b\b\b\b\b\b\b\b\b\b\b\b\b\b\b\b\b\b\b\b\b\b\b\b\b\b\b\b\b\b\b\b\b\b\b\b\b\b\b\b\b\b\b\b\b\b\b\b\b\b\b\b\b\b\b\r65/96 [===================>..........] - ETA: 0s - loss: 0.0511 - accuracy: 0.9831",
                    "output_type": "stream"
                },
                {
                    "name": "stdout",
                    "text": "\b\b\b\b\b\b\b\b\b\b\b\b\b\b\b\b\b\b\b\b\b\b\b\b\b\b\b\b\b\b\b\b\b\b\b\b\b\b\b\b\b\b\b\b\b\b\b\b\b\b\b\b\b\b\b\b\b\b\b\b\b\b\b\b\b\b\b\b\b\b\b\b\b\b\b\b\b\b\b\b\b\b\r96/96 [==============================] - 0s 1ms/step - loss: 0.0536 - accuracy: 0.9822 - val_loss: 0.0600 - val_accuracy: 0.9976\n",
                    "output_type": "stream"
                },
                {
                    "name": "stdout",
                    "text": "Epoch 25/50\n",
                    "output_type": "stream"
                },
                {
                    "name": "stdout",
                    "text": "\r 1/96 [..............................] - ETA: 0s - loss: 0.0596 - accuracy: 1.0000",
                    "output_type": "stream"
                },
                {
                    "name": "stdout",
                    "text": "\b\b\b\b\b\b\b\b\b\b\b\b\b\b\b\b\b\b\b\b\b\b\b\b\b\b\b\b\b\b\b\b\b\b\b\b\b\b\b\b\b\b\b\b\b\b\b\b\b\b\b\b\b\b\b\b\b\b\b\b\b\b\b\b\b\b\b\b\b\b\b\b\b\b\b\b\b\b\b\b\b\b\r58/96 [=================>............] - ETA: 0s - loss: 0.0506 - accuracy: 0.9948",
                    "output_type": "stream"
                },
                {
                    "name": "stdout",
                    "text": "\b\b\b\b\b\b\b\b\b\b\b\b\b\b\b\b\b\b\b\b\b\b\b\b\b\b\b\b\b\b\b\b\b\b\b\b\b\b\b\b\b\b\b\b\b\b\b\b\b\b\b\b\b\b\b\b\b\b\b\b\b\b\b\b\b\b\b\b\b\b\b\b\b\b\b\b\b\b\b\b\b\b\r96/96 [==============================] - 0s 1ms/step - loss: 0.0510 - accuracy: 0.9927 - val_loss: 0.0588 - val_accuracy: 0.9878\n",
                    "output_type": "stream"
                },
                {
                    "name": "stdout",
                    "text": "Epoch 26/50\n",
                    "output_type": "stream"
                },
                {
                    "name": "stdout",
                    "text": "\r 1/96 [..............................] - ETA: 0s - loss: 0.1052 - accuracy: 0.9000",
                    "output_type": "stream"
                },
                {
                    "name": "stdout",
                    "text": "\b\b\b\b\b\b\b\b\b\b\b\b\b\b\b\b\b\b\b\b\b\b\b\b\b\b\b\b\b\b\b\b\b\b\b\b\b\b\b\b\b\b\b\b\b\b\b\b\b\b\b\b\b\b\b\b\b\b\b\b\b\b\b\b\b\b\b\b\b\b\b\b\b\b\b\b\b\b\b\b\b\b\r54/96 [===============>..............] - ETA: 0s - loss: 0.0688 - accuracy: 0.9778",
                    "output_type": "stream"
                },
                {
                    "name": "stdout",
                    "text": "\b\b\b\b\b\b\b\b\b\b\b\b\b\b\b\b\b\b\b\b\b\b\b\b\b\b\b\b\b\b\b\b\b\b\b\b\b\b\b\b\b\b\b\b\b\b\b\b\b\b\b\b\b\b\b\b\b\b\b\b\b\b\b\b\b\b\b\b\b\b\b\b\b\b\b\b\b\b\b\b\b\b\r96/96 [==============================] - 0s 1ms/step - loss: 0.0538 - accuracy: 0.9854 - val_loss: 0.0545 - val_accuracy: 0.9903\n",
                    "output_type": "stream"
                },
                {
                    "name": "stdout",
                    "text": "Epoch 27/50\n",
                    "output_type": "stream"
                },
                {
                    "name": "stdout",
                    "text": "\r 1/96 [..............................] - ETA: 0s - loss: 0.0520 - accuracy: 1.0000",
                    "output_type": "stream"
                },
                {
                    "name": "stdout",
                    "text": "\b\b\b\b\b\b\b\b\b\b\b\b\b\b\b\b\b\b\b\b\b\b\b\b\b\b\b\b\b\b\b\b\b\b\b\b\b\b\b\b\b\b\b\b\b\b\b\b\b\b\b\b\b\b\b\b\b\b\b\b\b\b\b\b\b\b\b\b\b\b\b\b\b\b\b\b\b\b\b\b\b\b\r61/96 [==================>...........] - ETA: 0s - loss: 0.0466 - accuracy: 0.9869",
                    "output_type": "stream"
                },
                {
                    "name": "stdout",
                    "text": "\b\b\b\b\b\b\b\b\b\b\b\b\b\b\b\b\b\b\b\b\b\b\b\b\b\b\b\b\b\b\b\b\b\b\b\b\b\b\b\b\b\b\b\b\b\b\b\b\b\b\b\b\b\b\b\b\b\b\b\b\b\b\b\b\b\b\b\b\b\b\b\b\b\b\b\b\b\b\b\b\b\b\r96/96 [==============================] - 0s 1ms/step - loss: 0.0471 - accuracy: 0.9896 - val_loss: 0.0532 - val_accuracy: 0.9927\n",
                    "output_type": "stream"
                },
                {
                    "name": "stdout",
                    "text": "Epoch 28/50\n",
                    "output_type": "stream"
                },
                {
                    "name": "stdout",
                    "text": "\r 1/96 [..............................] - ETA: 0s - loss: 0.0155 - accuracy: 1.0000",
                    "output_type": "stream"
                },
                {
                    "name": "stdout",
                    "text": "\b\b\b\b\b\b\b\b\b\b\b\b\b\b\b\b\b\b\b\b\b\b\b\b\b\b\b\b\b\b\b\b\b\b\b\b\b\b\b\b\b\b\b\b\b\b\b\b\b\b\b\b\b\b\b\b\b\b\b\b\b\b\b\b\b\b\b\b\b\b\b\b\b\b\b\b\b\b\b\b\b\b\r60/96 [=================>............] - ETA: 0s - loss: 0.0456 - accuracy: 0.9950",
                    "output_type": "stream"
                },
                {
                    "name": "stdout",
                    "text": "\b\b\b\b\b\b\b\b\b\b\b\b\b\b\b\b\b\b\b\b\b\b\b\b\b\b\b\b\b\b\b\b\b\b\b\b\b\b\b\b\b\b\b\b\b\b\b\b\b\b\b\b\b\b\b\b\b\b\b\b\b\b\b\b\b\b\b\b\b\b\b\b\b\b\b\b\b\b\b\b\b\b\r96/96 [==============================] - 0s 1ms/step - loss: 0.0454 - accuracy: 0.9906 - val_loss: 0.0514 - val_accuracy: 0.9951\n",
                    "output_type": "stream"
                },
                {
                    "name": "stdout",
                    "text": "Epoch 29/50\n",
                    "output_type": "stream"
                },
                {
                    "name": "stdout",
                    "text": "\r 1/96 [..............................] - ETA: 0s - loss: 0.0029 - accuracy: 1.0000",
                    "output_type": "stream"
                },
                {
                    "name": "stdout",
                    "text": "\b\b\b\b\b\b\b\b\b\b\b\b\b\b\b\b\b\b\b\b\b\b\b\b\b\b\b\b\b\b\b\b\b\b\b\b\b\b\b\b\b\b\b\b\b\b\b\b\b\b\b\b\b\b\b\b\b\b\b\b\b\b\b\b\b\b\b\b\b\b\b\b\b\b\b\b\b\b\b\b\b\b\r60/96 [=================>............] - ETA: 0s - loss: 0.0460 - accuracy: 0.9867",
                    "output_type": "stream"
                },
                {
                    "name": "stdout",
                    "text": "\b\b\b\b\b\b\b\b\b\b\b\b\b\b\b\b\b\b\b\b\b\b\b\b\b\b\b\b\b\b\b\b\b\b\b\b\b\b\b\b\b\b\b\b\b\b\b\b\b\b\b\b\b\b\b\b\b\b\b\b\b\b\b\b\b\b\b\b\b\b\b\b\b\b\b\b\b\b\b\b\b\b\r96/96 [==============================] - 0s 1ms/step - loss: 0.0446 - accuracy: 0.9885 - val_loss: 0.0493 - val_accuracy: 0.9878\n",
                    "output_type": "stream"
                },
                {
                    "name": "stdout",
                    "text": "Epoch 30/50\n",
                    "output_type": "stream"
                },
                {
                    "name": "stdout",
                    "text": "\r 1/96 [..............................] - ETA: 0s - loss: 0.0054 - accuracy: 1.0000",
                    "output_type": "stream"
                },
                {
                    "name": "stdout",
                    "text": "\b\b\b\b\b\b\b\b\b\b\b\b\b\b\b\b\b\b\b\b\b\b\b\b\b\b\b\b\b\b\b\b\b\b\b\b\b\b\b\b\b\b\b\b\b\b\b\b\b\b\b\b\b\b\b\b\b\b\b\b\b\b\b\b\b\b\b\b\b\b\b\b\b\b\b\b\b\b\b\b\b\b\r43/96 [============>.................] - ETA: 0s - loss: 0.0474 - accuracy: 0.9930",
                    "output_type": "stream"
                },
                {
                    "name": "stdout",
                    "text": "\b\b\b\b\b\b\b\b\b\b\b\b\b\b\b\b\b\b\b\b\b\b\b\b\b\b\b\b\b\b\b\b\b\b\b\b\b\b\b\b\b\b\b\b\b\b\b\b\b\b\b\b\b\b\b\b\b\b\b\b\b\b\b\b\b\b\b\b\b\b\b\b\b\b\b\b\b\b\b\b\b\b\r85/96 [=========================>....] - ETA: 0s - loss: 0.0432 - accuracy: 0.9929",
                    "output_type": "stream"
                },
                {
                    "name": "stdout",
                    "text": "\b\b\b\b\b\b\b\b\b\b\b\b\b\b\b\b\b\b\b\b\b\b\b\b\b\b\b\b\b\b\b\b\b\b\b\b\b\b\b\b\b\b\b\b\b\b\b\b\b\b\b\b\b\b\b\b\b\b\b\b\b\b\b\b\b\b\b\b\b\b\b\b\b\b\b\b\b\b\b\b\b\b\r96/96 [==============================] - 0s 2ms/step - loss: 0.0423 - accuracy: 0.9927 - val_loss: 0.0613 - val_accuracy: 0.9708\n",
                    "output_type": "stream"
                },
                {
                    "name": "stdout",
                    "text": "Epoch 31/50\n",
                    "output_type": "stream"
                },
                {
                    "name": "stdout",
                    "text": "\r 1/96 [..............................] - ETA: 0s - loss: 0.0308 - accuracy: 1.0000",
                    "output_type": "stream"
                },
                {
                    "name": "stdout",
                    "text": "\b\b\b\b\b\b\b\b\b\b\b\b\b\b\b\b\b\b\b\b\b\b\b\b\b\b\b\b\b\b\b\b\b\b\b\b\b\b\b\b\b\b\b\b\b\b\b\b\b\b\b\b\b\b\b\b\b\b\b\b\b\b\b\b\b\b\b\b\b\b\b\b\b\b\b\b\b\b\b\b\b\b\r59/96 [=================>............] - ETA: 0s - loss: 0.0421 - accuracy: 0.9864",
                    "output_type": "stream"
                },
                {
                    "name": "stdout",
                    "text": "\b\b\b\b\b\b\b\b\b\b\b\b\b\b\b\b\b\b\b\b\b\b\b\b\b\b\b\b\b\b\b\b\b\b\b\b\b\b\b\b\b\b\b\b\b\b\b\b\b\b\b\b\b\b\b\b\b\b\b\b\b\b\b\b\b\b\b\b\b\b\b\b\b\b\b\b\b\b\b\b\b\b\r96/96 [==============================] - 0s 1ms/step - loss: 0.0512 - accuracy: 0.9801 - val_loss: 0.0454 - val_accuracy: 0.9976\n",
                    "output_type": "stream"
                },
                {
                    "name": "stdout",
                    "text": "Epoch 32/50\n",
                    "output_type": "stream"
                },
                {
                    "name": "stdout",
                    "text": "\r 1/96 [..............................] - ETA: 0s - loss: 0.0079 - accuracy: 1.0000",
                    "output_type": "stream"
                },
                {
                    "name": "stdout",
                    "text": "\b\b\b\b\b\b\b\b\b\b\b\b\b\b\b\b\b\b\b\b\b\b\b\b\b\b\b\b\b\b\b\b\b\b\b\b\b\b\b\b\b\b\b\b\b\b\b\b\b\b\b\b\b\b\b\b\b\b\b\b\b\b\b\b\b\b\b\b\b\b\b\b\b\b\b\b\b\b\b\b\b\b\r61/96 [==================>...........] - ETA: 0s - loss: 0.0406 - accuracy: 0.9869",
                    "output_type": "stream"
                },
                {
                    "name": "stdout",
                    "text": "\b\b\b\b\b\b\b\b\b\b\b\b\b\b\b\b\b\b\b\b\b\b\b\b\b\b\b\b\b\b\b\b\b\b\b\b\b\b\b\b\b\b\b\b\b\b\b\b\b\b\b\b\b\b\b\b\b\b\b\b\b\b\b\b\b\b\b\b\b\b\b\b\b\b\b\b\b\b\b\b\b\b\r96/96 [==============================] - 0s 1ms/step - loss: 0.0412 - accuracy: 0.9875 - val_loss: 0.0446 - val_accuracy: 0.9927\n",
                    "output_type": "stream"
                },
                {
                    "name": "stdout",
                    "text": "Epoch 33/50\n",
                    "output_type": "stream"
                },
                {
                    "name": "stdout",
                    "text": "\r 1/96 [..............................] - ETA: 0s - loss: 0.0549 - accuracy: 1.0000",
                    "output_type": "stream"
                },
                {
                    "name": "stdout",
                    "text": "\b\b\b\b\b\b\b\b\b\b\b\b\b\b\b\b\b\b\b\b\b\b\b\b\b\b\b\b\b\b\b\b\b\b\b\b\b\b\b\b\b\b\b\b\b\b\b\b\b\b\b\b\b\b\b\b\b\b\b\b\b\b\b\b\b\b\b\b\b\b\b\b\b\b\b\b\b\b\b\b\b\b\r63/96 [==================>...........] - ETA: 0s - loss: 0.0395 - accuracy: 0.9921",
                    "output_type": "stream"
                },
                {
                    "name": "stdout",
                    "text": "\b\b\b\b\b\b\b\b\b\b\b\b\b\b\b\b\b\b\b\b\b\b\b\b\b\b\b\b\b\b\b\b\b\b\b\b\b\b\b\b\b\b\b\b\b\b\b\b\b\b\b\b\b\b\b\b\b\b\b\b\b\b\b\b\b\b\b\b\b\b\b\b\b\b\b\b\b\b\b\b\b\b\r96/96 [==============================] - 0s 1ms/step - loss: 0.0433 - accuracy: 0.9875 - val_loss: 0.0422 - val_accuracy: 0.9951\n",
                    "output_type": "stream"
                },
                {
                    "name": "stdout",
                    "text": "Epoch 34/50\n",
                    "output_type": "stream"
                },
                {
                    "name": "stdout",
                    "text": "\r 1/96 [..............................] - ETA: 0s - loss: 0.0088 - accuracy: 1.0000",
                    "output_type": "stream"
                },
                {
                    "name": "stdout",
                    "text": "\b\b\b\b\b\b\b\b\b\b\b\b\b\b\b\b\b\b\b\b\b\b\b\b\b\b\b\b\b\b\b\b\b\b\b\b\b\b\b\b\b\b\b\b\b\b\b\b\b\b\b\b\b\b\b\b\b\b\b\b\b\b\b\b\b\b\b\b\b\b\b\b\b\b\b\b\b\b\b\b\b\b\r63/96 [==================>...........] - ETA: 0s - loss: 0.0379 - accuracy: 0.9873",
                    "output_type": "stream"
                },
                {
                    "name": "stdout",
                    "text": "\b\b\b\b\b\b\b\b\b\b\b\b\b\b\b\b\b\b\b\b\b\b\b\b\b\b\b\b\b\b\b\b\b\b\b\b\b\b\b\b\b\b\b\b\b\b\b\b\b\b\b\b\b\b\b\b\b\b\b\b\b\b\b\b\b\b\b\b\b\b\b\b\b\b\b\b\b\b\b\b\b\b\r96/96 [==============================] - 0s 1ms/step - loss: 0.0410 - accuracy: 0.9875 - val_loss: 0.0629 - val_accuracy: 0.9684\n",
                    "output_type": "stream"
                },
                {
                    "name": "stdout",
                    "text": "Epoch 35/50\n",
                    "output_type": "stream"
                },
                {
                    "name": "stdout",
                    "text": "\r 1/96 [..............................] - ETA: 0s - loss: 0.0062 - accuracy: 1.0000",
                    "output_type": "stream"
                },
                {
                    "name": "stdout",
                    "text": "\b\b\b\b\b\b\b\b\b\b\b\b\b\b\b\b\b\b\b\b\b\b\b\b\b\b\b\b\b\b\b\b\b\b\b\b\b\b\b\b\b\b\b\b\b\b\b\b\b\b\b\b\b\b\b\b\b\b\b\b\b\b\b\b\b\b\b\b\b\b\b\b\b\b\b\b\b\b\b\b\b\b\r60/96 [=================>............] - ETA: 0s - loss: 0.0442 - accuracy: 0.9883",
                    "output_type": "stream"
                },
                {
                    "name": "stdout",
                    "text": "\b\b\b\b\b\b\b\b\b\b\b\b\b\b\b\b\b\b\b\b\b\b\b\b\b\b\b\b\b\b\b\b\b\b\b\b\b\b\b\b\b\b\b\b\b\b\b\b\b\b\b\b\b\b\b\b\b\b\b\b\b\b\b\b\b\b\b\b\b\b\b\b\b\b\b\b\b\b\b\b\b\b\r96/96 [==============================] - 0s 1ms/step - loss: 0.0380 - accuracy: 0.9916 - val_loss: 0.0449 - val_accuracy: 0.9878\n",
                    "output_type": "stream"
                },
                {
                    "name": "stdout",
                    "text": "Epoch 36/50\n",
                    "output_type": "stream"
                },
                {
                    "name": "stdout",
                    "text": "\r 1/96 [..............................] - ETA: 0s - loss: 0.1017 - accuracy: 1.0000",
                    "output_type": "stream"
                },
                {
                    "name": "stdout",
                    "text": "\b\b\b\b\b\b\b\b\b\b\b\b\b\b\b\b\b\b\b\b\b\b\b\b\b\b\b\b\b\b\b\b\b\b\b\b\b\b\b\b\b\b\b\b\b\b\b\b\b\b\b\b\b\b\b\b\b\b\b\b\b\b\b\b\b\b\b\b\b\b\b\b\b\b\b\b\b\b\b\b\b\b\r64/96 [===================>..........] - ETA: 0s - loss: 0.0365 - accuracy: 0.9891",
                    "output_type": "stream"
                },
                {
                    "name": "stdout",
                    "text": "\b\b\b\b\b\b\b\b\b\b\b\b\b\b\b\b\b\b\b\b\b\b\b\b\b\b\b\b\b\b\b\b\b\b\b\b\b\b\b\b\b\b\b\b\b\b\b\b\b\b\b\b\b\b\b\b\b\b\b\b\b\b\b\b\b\b\b\b\b\b\b\b\b\b\b\b\b\b\b\b\b\b\r96/96 [==============================] - 0s 1ms/step - loss: 0.0362 - accuracy: 0.9885 - val_loss: 0.0442 - val_accuracy: 0.9927\n",
                    "output_type": "stream"
                },
                {
                    "name": "stdout",
                    "text": "Epoch 37/50\n",
                    "output_type": "stream"
                },
                {
                    "name": "stdout",
                    "text": "\r 1/96 [..............................] - ETA: 0s - loss: 0.0120 - accuracy: 1.0000",
                    "output_type": "stream"
                },
                {
                    "name": "stdout",
                    "text": "\b\b\b\b\b\b\b\b\b\b\b\b\b\b\b\b\b\b\b\b\b\b\b\b\b\b\b\b\b\b\b\b\b\b\b\b\b\b\b\b\b\b\b\b\b\b\b\b\b\b\b\b\b\b\b\b\b\b\b\b\b\b\b\b\b\b\b\b\b\b\b\b\b\b\b\b\b\b\b\b\b\b\r51/96 [==============>...............] - ETA: 0s - loss: 0.0396 - accuracy: 0.9882",
                    "output_type": "stream"
                },
                {
                    "name": "stdout",
                    "text": "\b\b\b\b\b\b\b\b\b\b\b\b\b\b\b\b\b\b\b\b\b\b\b\b\b\b\b\b\b\b\b\b\b\b\b\b\b\b\b\b\b\b\b\b\b\b\b\b\b\b\b\b\b\b\b\b\b\b\b\b\b\b\b\b\b\b\b\b\b\b\b\b\b\b\b\b\b\b\b\b\b\b\r96/96 [==============================] - 0s 2ms/step - loss: 0.0377 - accuracy: 0.9885 - val_loss: 0.0379 - val_accuracy: 0.9927\n",
                    "output_type": "stream"
                },
                {
                    "name": "stdout",
                    "text": "Epoch 38/50\n",
                    "output_type": "stream"
                },
                {
                    "name": "stdout",
                    "text": "\r 1/96 [..............................] - ETA: 0s - loss: 0.0042 - accuracy: 1.0000",
                    "output_type": "stream"
                },
                {
                    "name": "stdout",
                    "text": "\b\b\b\b\b\b\b\b\b\b\b\b\b\b\b\b\b\b\b\b\b\b\b\b\b\b\b\b\b\b\b\b\b\b\b\b\b\b\b\b\b\b\b\b\b\b\b\b\b\b\b\b\b\b\b\b\b\b\b\b\b\b\b\b\b\b\b\b\b\b\b\b\b\b\b\b\b\b\b\b\b\b\r58/96 [=================>............] - ETA: 0s - loss: 0.0336 - accuracy: 0.9931",
                    "output_type": "stream"
                },
                {
                    "name": "stdout",
                    "text": "\b\b\b\b\b\b\b\b\b\b\b\b\b\b\b\b\b\b\b\b\b\b\b\b\b\b\b\b\b\b\b\b\b\b\b\b\b\b\b\b\b\b\b\b\b\b\b\b\b\b\b\b\b\b\b\b\b\b\b\b\b\b\b\b\b\b\b\b\b\b\b\b\b\b\b\b\b\b\b\b\b\b\r96/96 [==============================] - 0s 1ms/step - loss: 0.0352 - accuracy: 0.9916 - val_loss: 0.0397 - val_accuracy: 0.9927\n",
                    "output_type": "stream"
                },
                {
                    "name": "stdout",
                    "text": "Epoch 39/50\n",
                    "output_type": "stream"
                },
                {
                    "name": "stdout",
                    "text": "\r 1/96 [..............................] - ETA: 0s - loss: 0.0541 - accuracy: 1.0000",
                    "output_type": "stream"
                },
                {
                    "name": "stdout",
                    "text": "\b\b\b\b\b\b\b\b\b\b\b\b\b\b\b\b\b\b\b\b\b\b\b\b\b\b\b\b\b\b\b\b\b\b\b\b\b\b\b\b\b\b\b\b\b\b\b\b\b\b\b\b\b\b\b\b\b\b\b\b\b\b\b\b\b\b\b\b\b\b\b\b\b\b\b\b\b\b\b\b\b\b\r64/96 [===================>..........] - ETA: 0s - loss: 0.0346 - accuracy: 0.9922",
                    "output_type": "stream"
                },
                {
                    "name": "stdout",
                    "text": "\b\b\b\b\b\b\b\b\b\b\b\b\b\b\b\b\b\b\b\b\b\b\b\b\b\b\b\b\b\b\b\b\b\b\b\b\b\b\b\b\b\b\b\b\b\b\b\b\b\b\b\b\b\b\b\b\b\b\b\b\b\b\b\b\b\b\b\b\b\b\b\b\b\b\b\b\b\b\b\b\b\b\r96/96 [==============================] - 0s 1ms/step - loss: 0.0362 - accuracy: 0.9896 - val_loss: 0.0353 - val_accuracy: 0.9927\n",
                    "output_type": "stream"
                },
                {
                    "name": "stdout",
                    "text": "Epoch 40/50\n",
                    "output_type": "stream"
                },
                {
                    "name": "stdout",
                    "text": "\r 1/96 [..............................] - ETA: 0s - loss: 0.0023 - accuracy: 1.0000",
                    "output_type": "stream"
                },
                {
                    "name": "stdout",
                    "text": "\b\b\b\b\b\b\b\b\b\b\b\b\b\b\b\b\b\b\b\b\b\b\b\b\b\b\b\b\b\b\b\b\b\b\b\b\b\b\b\b\b\b\b\b\b\b\b\b\b\b\b\b\b\b\b\b\b\b\b\b\b\b\b\b\b\b\b\b\b\b\b\b\b\b\b\b\b\b\b\b\b\b\r62/96 [==================>...........] - ETA: 0s - loss: 0.0399 - accuracy: 0.9887",
                    "output_type": "stream"
                },
                {
                    "name": "stdout",
                    "text": "\b\b\b\b\b\b\b\b\b\b\b\b\b\b\b\b\b\b\b\b\b\b\b\b\b\b\b\b\b\b\b\b\b\b\b\b\b\b\b\b\b\b\b\b\b\b\b\b\b\b\b\b\b\b\b\b\b\b\b\b\b\b\b\b\b\b\b\b\b\b\b\b\b\b\b\b\b\b\b\b\b\b\r96/96 [==============================] - 0s 1ms/step - loss: 0.0354 - accuracy: 0.9906 - val_loss: 0.0361 - val_accuracy: 0.9927\n",
                    "output_type": "stream"
                },
                {
                    "name": "stdout",
                    "text": "Epoch 41/50\n",
                    "output_type": "stream"
                },
                {
                    "name": "stdout",
                    "text": "\r 1/96 [..............................] - ETA: 0s - loss: 0.0099 - accuracy: 1.0000",
                    "output_type": "stream"
                },
                {
                    "name": "stdout",
                    "text": "\b\b\b\b\b\b\b\b\b\b\b\b\b\b\b\b\b\b\b\b\b\b\b\b\b\b\b\b\b\b\b\b\b\b\b\b\b\b\b\b\b\b\b\b\b\b\b\b\b\b\b\b\b\b\b\b\b\b\b\b\b\b\b\b\b\b\b\b\b\b\b\b\b\b\b\b\b\b\b\b\b\b\r62/96 [==================>...........] - ETA: 0s - loss: 0.0325 - accuracy: 0.9919",
                    "output_type": "stream"
                },
                {
                    "name": "stdout",
                    "text": "\b\b\b\b\b\b\b\b\b\b\b\b\b\b\b\b\b\b\b\b\b\b\b\b\b\b\b\b\b\b\b\b\b\b\b\b\b\b\b\b\b\b\b\b\b\b\b\b\b\b\b\b\b\b\b\b\b\b\b\b\b\b\b\b\b\b\b\b\b\b\b\b\b\b\b\b\b\b\b\b\b\b\r96/96 [==============================] - 0s 1ms/step - loss: 0.0328 - accuracy: 0.9927 - val_loss: 0.0343 - val_accuracy: 0.9927\n",
                    "output_type": "stream"
                },
                {
                    "name": "stdout",
                    "text": "Epoch 42/50\n",
                    "output_type": "stream"
                },
                {
                    "name": "stdout",
                    "text": "\r 1/96 [..............................] - ETA: 0s - loss: 0.0032 - accuracy: 1.0000",
                    "output_type": "stream"
                },
                {
                    "name": "stdout",
                    "text": "\b\b\b\b\b\b\b\b\b\b\b\b\b\b\b\b\b\b\b\b\b\b\b\b\b\b\b\b\b\b\b\b\b\b\b\b\b\b\b\b\b\b\b\b\b\b\b\b\b\b\b\b\b\b\b\b\b\b\b\b\b\b\b\b\b\b\b\b\b\b\b\b\b\b\b\b\b\b\b\b\b\b\r66/96 [===================>..........] - ETA: 0s - loss: 0.0333 - accuracy: 0.9909",
                    "output_type": "stream"
                },
                {
                    "name": "stdout",
                    "text": "\b\b\b\b\b\b\b\b\b\b\b\b\b\b\b\b\b\b\b\b\b\b\b\b\b\b\b\b\b\b\b\b\b\b\b\b\b\b\b\b\b\b\b\b\b\b\b\b\b\b\b\b\b\b\b\b\b\b\b\b\b\b\b\b\b\b\b\b\b\b\b\b\b\b\b\b\b\b\b\b\b\b\r96/96 [==============================] - 0s 1ms/step - loss: 0.0366 - accuracy: 0.9896 - val_loss: 0.0368 - val_accuracy: 0.9927\n",
                    "output_type": "stream"
                },
                {
                    "name": "stdout",
                    "text": "Epoch 43/50\n",
                    "output_type": "stream"
                },
                {
                    "name": "stdout",
                    "text": "\r 1/96 [..............................] - ETA: 0s - loss: 0.0103 - accuracy: 1.0000",
                    "output_type": "stream"
                },
                {
                    "name": "stdout",
                    "text": "\b\b\b\b\b\b\b\b\b\b\b\b\b\b\b\b\b\b\b\b\b\b\b\b\b\b\b\b\b\b\b\b\b\b\b\b\b\b\b\b\b\b\b\b\b\b\b\b\b\b\b\b\b\b\b\b\b\b\b\b\b\b\b\b\b\b\b\b\b\b\b\b\b\b\b\b\b\b\b\b\b\b\r62/96 [==================>...........] - ETA: 0s - loss: 0.0313 - accuracy: 0.9903",
                    "output_type": "stream"
                },
                {
                    "name": "stdout",
                    "text": "\b\b\b\b\b\b\b\b\b\b\b\b\b\b\b\b\b\b\b\b\b\b\b\b\b\b\b\b\b\b\b\b\b\b\b\b\b\b\b\b\b\b\b\b\b\b\b\b\b\b\b\b\b\b\b\b\b\b\b\b\b\b\b\b\b\b\b\b\b\b\b\b\b\b\b\b\b\b\b\b\b\b\r96/96 [==============================] - 0s 1ms/step - loss: 0.0345 - accuracy: 0.9916 - val_loss: 0.0324 - val_accuracy: 0.9927\n",
                    "output_type": "stream"
                },
                {
                    "name": "stdout",
                    "text": "Epoch 44/50\n",
                    "output_type": "stream"
                },
                {
                    "name": "stdout",
                    "text": "\r 1/96 [..............................] - ETA: 0s - loss: 0.0256 - accuracy: 1.0000",
                    "output_type": "stream"
                },
                {
                    "name": "stdout",
                    "text": "\b\b\b\b\b\b\b\b\b\b\b\b\b\b\b\b\b\b\b\b\b\b\b\b\b\b\b\b\b\b\b\b\b\b\b\b\b\b\b\b\b\b\b\b\b\b\b\b\b\b\b\b\b\b\b\b\b\b\b\b\b\b\b\b\b\b\b\b\b\b\b\b\b\b\b\b\b\b\b\b\b\b\r64/96 [===================>..........] - ETA: 0s - loss: 0.0298 - accuracy: 0.9969",
                    "output_type": "stream"
                },
                {
                    "name": "stdout",
                    "text": "\b\b\b\b\b\b\b\b\b\b\b\b\b\b\b\b\b\b\b\b\b\b\b\b\b\b\b\b\b\b\b\b\b\b\b\b\b\b\b\b\b\b\b\b\b\b\b\b\b\b\b\b\b\b\b\b\b\b\b\b\b\b\b\b\b\b\b\b\b\b\b\b\b\b\b\b\b\b\b\b\b\b\r96/96 [==============================] - 0s 1ms/step - loss: 0.0312 - accuracy: 0.9948 - val_loss: 0.0392 - val_accuracy: 0.9854\n",
                    "output_type": "stream"
                },
                {
                    "name": "stdout",
                    "text": "Epoch 45/50\n",
                    "output_type": "stream"
                },
                {
                    "name": "stdout",
                    "text": "\r 1/96 [..............................] - ETA: 0s - loss: 0.0187 - accuracy: 1.0000",
                    "output_type": "stream"
                },
                {
                    "name": "stdout",
                    "text": "\b\b\b\b\b\b\b\b\b\b\b\b\b\b\b\b\b\b\b\b\b\b\b\b\b\b\b\b\b\b\b\b\b\b\b\b\b\b\b\b\b\b\b\b\b\b\b\b\b\b\b\b\b\b\b\b\b\b\b\b\b\b\b\b\b\b\b\b\b\b\b\b\b\b\b\b\b\b\b\b\b\b\r66/96 [===================>..........] - ETA: 0s - loss: 0.0322 - accuracy: 0.9909",
                    "output_type": "stream"
                },
                {
                    "name": "stdout",
                    "text": "\b\b\b\b\b\b\b\b\b\b\b\b\b\b\b\b\b\b\b\b\b\b\b\b\b\b\b\b\b\b\b\b\b\b\b\b\b\b\b\b\b\b\b\b\b\b\b\b\b\b\b\b\b\b\b\b\b\b\b\b\b\b\b\b\b\b\b\b\b\b\b\b\b\b\b\b\b\b\b\b\b\b\r96/96 [==============================] - 0s 1ms/step - loss: 0.0300 - accuracy: 0.9937 - val_loss: 0.0317 - val_accuracy: 0.9927\n",
                    "output_type": "stream"
                },
                {
                    "name": "stdout",
                    "text": "Epoch 46/50\n",
                    "output_type": "stream"
                },
                {
                    "name": "stdout",
                    "text": "\r 1/96 [..............................] - ETA: 0s - loss: 0.0422 - accuracy: 1.0000",
                    "output_type": "stream"
                },
                {
                    "name": "stdout",
                    "text": "\b\b\b\b\b\b\b\b\b\b\b\b\b\b\b\b\b\b\b\b\b\b\b\b\b\b\b\b\b\b\b\b\b\b\b\b\b\b\b\b\b\b\b\b\b\b\b\b\b\b\b\b\b\b\b\b\b\b\b\b\b\b\b\b\b\b\b\b\b\b\b\b\b\b\b\b\b\b\b\b\b\b\r57/96 [================>.............] - ETA: 0s - loss: 0.0263 - accuracy: 0.9912",
                    "output_type": "stream"
                },
                {
                    "name": "stdout",
                    "text": "\b\b\b\b\b\b\b\b\b\b\b\b\b\b\b\b\b\b\b\b\b\b\b\b\b\b\b\b\b\b\b\b\b\b\b\b\b\b\b\b\b\b\b\b\b\b\b\b\b\b\b\b\b\b\b\b\b\b\b\b\b\b\b\b\b\b\b\b\b\b\b\b\b\b\b\b\b\b\b\b\b\b\r96/96 [==============================] - 0s 1ms/step - loss: 0.0283 - accuracy: 0.9927 - val_loss: 0.0297 - val_accuracy: 0.9927\n",
                    "output_type": "stream"
                },
                {
                    "name": "stdout",
                    "text": "Epoch 47/50\n",
                    "output_type": "stream"
                },
                {
                    "name": "stdout",
                    "text": "\r 1/96 [..............................] - ETA: 0s - loss: 0.0896 - accuracy: 1.0000",
                    "output_type": "stream"
                },
                {
                    "name": "stdout",
                    "text": "\b\b\b\b\b\b\b\b\b\b\b\b\b\b\b\b\b\b\b\b\b\b\b\b\b\b\b\b\b\b\b\b\b\b\b\b\b\b\b\b\b\b\b\b\b\b\b\b\b\b\b\b\b\b\b\b\b\b\b\b\b\b\b\b\b\b\b\b\b\b\b\b\b\b\b\b\b\b\b\b\b\b\r60/96 [=================>............] - ETA: 0s - loss: 0.0307 - accuracy: 0.9917",
                    "output_type": "stream"
                },
                {
                    "name": "stdout",
                    "text": "\b\b\b\b\b\b\b\b\b\b\b\b\b\b\b\b\b\b\b\b\b\b\b\b\b\b\b\b\b\b\b\b\b\b\b\b\b\b\b\b\b\b\b\b\b\b\b\b\b\b\b\b\b\b\b\b\b\b\b\b\b\b\b\b\b\b\b\b\b\b\b\b\b\b\b\b\b\b\b\b\b\b\r96/96 [==============================] - 0s 1ms/step - loss: 0.0335 - accuracy: 0.9896 - val_loss: 0.0308 - val_accuracy: 0.9927\n",
                    "output_type": "stream"
                },
                {
                    "name": "stdout",
                    "text": "Epoch 48/50\n",
                    "output_type": "stream"
                },
                {
                    "name": "stdout",
                    "text": "\r 1/96 [..............................] - ETA: 0s - loss: 0.0152 - accuracy: 1.0000",
                    "output_type": "stream"
                },
                {
                    "name": "stdout",
                    "text": "\b\b\b\b\b\b\b\b\b\b\b\b\b\b\b\b\b\b\b\b\b\b\b\b\b\b\b\b\b\b\b\b\b\b\b\b\b\b\b\b\b\b\b\b\b\b\b\b\b\b\b\b\b\b\b\b\b\b\b\b\b\b\b\b\b\b\b\b\b\b\b\b\b\b\b\b\b\b\b\b\b\b\r55/96 [================>.............] - ETA: 0s - loss: 0.0264 - accuracy: 0.9927",
                    "output_type": "stream"
                },
                {
                    "name": "stdout",
                    "text": "\b\b\b\b\b\b\b\b\b\b\b\b\b\b\b\b\b\b\b\b\b\b\b\b\b\b\b\b\b\b\b\b\b\b\b\b\b\b\b\b\b\b\b\b\b\b\b\b\b\b\b\b\b\b\b\b\b\b\b\b\b\b\b\b\b\b\b\b\b\b\b\b\b\b\b\b\b\b\b\b\b\b\r96/96 [==============================] - 0s 1ms/step - loss: 0.0280 - accuracy: 0.9937 - val_loss: 0.0361 - val_accuracy: 0.9903\n",
                    "output_type": "stream"
                },
                {
                    "name": "stdout",
                    "text": "Epoch 49/50\n",
                    "output_type": "stream"
                },
                {
                    "name": "stdout",
                    "text": "\r 1/96 [..............................] - ETA: 0s - loss: 0.0127 - accuracy: 1.0000",
                    "output_type": "stream"
                },
                {
                    "name": "stdout",
                    "text": "\b\b\b\b\b\b\b\b\b\b\b\b\b\b\b\b\b\b\b\b\b\b\b\b\b\b\b\b\b\b\b\b\b\b\b\b\b\b\b\b\b\b\b\b\b\b\b\b\b\b\b\b\b\b\b\b\b\b\b\b\b\b\b\b\b\b\b\b\b\b\b\b\b\b\b\b\b\b\b\b\b\b\r67/96 [===================>..........] - ETA: 0s - loss: 0.0193 - accuracy: 0.9970",
                    "output_type": "stream"
                },
                {
                    "name": "stdout",
                    "text": "\b\b\b\b\b\b\b\b\b\b\b\b\b\b\b\b\b\b\b\b\b\b\b\b\b\b\b\b\b\b\b\b\b\b\b\b\b\b\b\b\b\b\b\b\b\b\b\b\b\b\b\b\b\b\b\b\b\b\b\b\b\b\b\b\b\b\b\b\b\b\b\b\b\b\b\b\b\b\b\b\b\b\r96/96 [==============================] - 0s 1ms/step - loss: 0.0257 - accuracy: 0.9948 - val_loss: 0.0395 - val_accuracy: 0.9903\n",
                    "output_type": "stream"
                },
                {
                    "name": "stdout",
                    "text": "Epoch 50/50\n",
                    "output_type": "stream"
                },
                {
                    "name": "stdout",
                    "text": "\r 1/96 [..............................] - ETA: 0s - loss: 0.0864 - accuracy: 0.9000",
                    "output_type": "stream"
                },
                {
                    "name": "stdout",
                    "text": "\b\b\b\b\b\b\b\b\b\b\b\b\b\b\b\b\b\b\b\b\b\b\b\b\b\b\b\b\b\b\b\b\b\b\b\b\b\b\b\b\b\b\b\b\b\b\b\b\b\b\b\b\b\b\b\b\b\b\b\b\b\b\b\b\b\b\b\b\b\b\b\b\b\b\b\b\b\b\b\b\b\b\r63/96 [==================>...........] - ETA: 0s - loss: 0.0306 - accuracy: 0.9857",
                    "output_type": "stream"
                },
                {
                    "name": "stdout",
                    "text": "\b\b\b\b\b\b\b\b\b\b\b\b\b\b\b\b\b\b\b\b\b\b\b\b\b\b\b\b\b\b\b\b\b\b\b\b\b\b\b\b\b\b\b\b\b\b\b\b\b\b\b\b\b\b\b\b\b\b\b\b\b\b\b\b\b\b\b\b\b\b\b\b\b\b\b\b\b\b\b\b\b\b\r96/96 [==============================] - 0s 1ms/step - loss: 0.0279 - accuracy: 0.9885 - val_loss: 0.0382 - val_accuracy: 0.9878\n",
                    "output_type": "stream"
                }
            ],
            "execution_count": 19
        },
        {
            "cell_type": "markdown",
            "source": [
                "While the training process is running, let's try to understand what's happening:\n",
                "\n",
                "1. In each *epoch*, the full set of training data is passed forward through the network. There are four features for each observation, and four corresponding nodes in the input layer - so the features for each observation are passed as a vector of four values to that layer. However, for efficiency, the feature vectors are grouped into batches; so actually a matrix of multiple feature vectors is fed in each time.\n",
                "2. The matrix of feature values is processed by a function that performs a weighted sum using initialized weights and bias values. The result of this function is then processed by the activation function for the input layer to constrain the values passed to the nodes in the next layer.\n",
                "3. The weighted sum and activation functions are repeated in each layer. Note that the functions operate on vectors and matrices rather than individual scalar values. In other words, the forward pass is essentially a series of nested linear algebra functions. This is the reason data scientists prefer to use computers with graphical processing units (GPUs), since these are optimized for matrix and vector calculations.\n",
                "4. In the final layer of the network, the output vectors contain a probability value for each possible class (in this case, classes 0, 1, and 2). This vector is processed by a *loss function* to determine how far the values calculated by the network are from the actual values - so for example, suppose the output for a Gentoo penguin (class 1) observation is \\[0.3, 0.4, 0.3\\]. The correct prediction should be \\[0.0, 1.0, 0.0\\], so the variance between the predicted and actual values (how far away the each predicted value is from what it should be) is \\[0.3, 0.6, 0.3\\]. This variance is aggregated for each batch and maintained as a running aggregate to calculate the overall level of error (*loss*) incurred by the training data for the epoch. The accuracy (proportion of correct predictions based on the highest probability value in the output vector) for the training data is also calculated.\n",
                "5. At the end of each epoch, the validation data is passed through the network, and its loss and accuracy are also calculated. It's important to do this because it enables us to compare the performance of the model using data on which it was not trained, helping us determine if it will generalize well for new data or if it's *overfitted* to the training data.\n",
                "6. After all the data has been passed forward through the network, the output of the loss function for the *training* data (but <u>not</u> the *validation* data) is passed to the opimizer. The precise details of how the optimizer processes the loss vary depending on the specific optimization algorithm being used; but fundamentally you can think of the entire network, from the input layer to the loss function as being one big nested (*composite*) function. The optimizer applies some differential calculus to calculate *partial derivatives* for the function with respect to each weight and bias value that was used in the network. It's possible to do this efficiently for a nested function due to something called the *chain rule*, which enables you to determine the derivative of a composite function from the derivatives of its inner function and outer functions. You don't really need to worry about the details of the math here (the optimizer does it for you), but the end result is that the partial derivatives tell us about the slope (or *gradient*) of the loss function with respect to each weight and bias value - in other words, we can determine whether to increase or decrease the weight and bias values in order to decrease the loss.\n",
                "7. Having determined in which direction to adjust the weights and biases, the optimizer uses the *learning rate* to determine by how much to adjust them; and then works backwards through the network in a process called *backpropagation* to assign new values to the weights and biases in each layer.\n",
                "8. Now the next epoch repeats the whole training, validation, and backpropagation process starting with the revised weights and biases from the previous epoch - which hopefully will result in a lower level of loss.\n",
                "9. The process continues like this for 50 epochs.\n",
                "\n",
                "## Review training and validation loss\n",
                "\n",
                "After training is complete, we can examine the loss metrics we recorded while training and validating the model. We're really looking for two things:\n",
                "* The loss should reduce with each epoch, showing that the model is learning the right weights and biases to predict the correct labels.\n",
                "* The training loss and validation loss should follow a similar trend, showing that the model is not overfitting to the training data.\n",
                "\n",
                "Let's plot the loss metrics and see:"
            ],
            "metadata": {
                "azdata_cell_guid": "8eedfe47-8b94-43d0-85f8-901752b0d51d"
            }
        },
        {
            "cell_type": "code",
            "source": [
                "%matplotlib inline\r\n",
                "from matplotlib import pyplot as plt\r\n",
                "\r\n",
                "epoch_nums = range(1,num_epochs+1)\r\n",
                "training_loss = history.history[\"loss\"]\r\n",
                "validation_loss = history.history[\"val_loss\"]\r\n",
                "plt.plot(epoch_nums, training_loss)\r\n",
                "plt.plot(epoch_nums, validation_loss)\r\n",
                "plt.xlabel('epoch')\r\n",
                "plt.ylabel('loss')\r\n",
                "plt.legend(['training', 'validation'], loc='upper right')\r\n",
                "plt.show()"
            ],
            "metadata": {
                "azdata_cell_guid": "d760538e-d06f-4db7-bbc0-1ac3d0f451f9",
                "language": "python"
            },
            "outputs": [
                {
                    "data": {
                        "text/plain": "<Figure size 432x288 with 1 Axes>",
                        "image/png": "[encoded data removed]"
                    },
                    "metadata": {
                        "needs_background": "light"
                    },
                    "output_type": "display_data"
                }
            ],
            "execution_count": 20
        },
        {
            "cell_type": "markdown",
            "source": [
                "## View the learned weights and biases\n",
                "\n",
                "The trained model consists of the final weights and biases that were determined by the optimizer during training. Based on our network model we should expect the following values for each layer:\n",
                "* Layer 1: There are four input values going to ten output nodes, so there should be 4 x 10 weights and 10 bias values.\n",
                "* Layer 2: There are ten input values going to ten output nodes, so there should be 10 x 10 weights and 10 bias values.\n",
                "* Layer 3: There are ten input values going to three output nodes, so there should be 10 x 3 weights and 3 bias values."
            ],
            "metadata": {
                "azdata_cell_guid": "f5732629-6265-4ef6-9e44-7a1ab0d4ad5a"
            }
        },
        {
            "cell_type": "code",
            "source": [
                "for layer in model.layers:\r\n",
                "    weights = layer.get_weights()[0]\r\n",
                "    biases = layer.get_weights()[1]\r\n",
                "    print('------------\\nWeights:\\n',weights,'\\nBiases:\\n', biases)"
            ],
            "metadata": {
                "tags": [],
                "azdata_cell_guid": "dce7c0d3-18be-4f5b-9f31-ec304d523ef5",
                "language": "python"
            },
            "outputs": [
                {
                    "name": "stdout",
                    "text": "------------\nWeights:\n [[-0.04766882  0.7846964   0.544265    0.5181557  -0.31465518  0.04990781\n  -0.2766921   0.26023027  0.10914725 -0.15293372]\n [-0.34214038 -0.6623115   1.0515971  -0.29480824  0.13572997  0.43339494\n  -0.2055921  -0.61758804 -0.32233658 -0.5240418 ]\n [ 0.09612601 -0.11470623  0.15909189 -0.09112225 -0.5935307   0.4554448\n  -0.04218543 -0.4763895  -0.26407024  0.16394871]\n [ 0.50518656 -0.4131897  -0.6313784   0.52222705  0.2412352   0.3318442\n  -0.6449396   0.3364996  -0.5727481  -0.04602724]] \nBiases:\n [ 0.13050665 -0.1351193   0.08362196 -0.10780363  0.          0.14348437\n  0.         -0.07778353  0.          0.        ]\n------------\nWeights:\n [[-0.19035257  0.17182565 -0.23463024  0.500067   -0.4604912  -0.37025616\n  -0.35971835 -0.15755585  0.19963044 -0.09135035]\n [ 0.8099563  -0.5159806   0.58457243 -0.14751175 -0.4076496   0.30211085\n  -0.15044054 -1.2135675  -0.14390963 -0.45356187]\n [ 0.57567483 -0.06896847 -0.5309196   0.34824014 -0.02675968 -0.0178964\n   0.18347442  0.00433439  0.07304394  0.12962478]\n [ 0.4431647  -0.06609985  0.5161238  -0.33543187 -0.44514212  0.19722828\n   0.06760556  0.27201208 -0.4999018  -0.26328906]\n [-0.27200186 -0.27709475 -0.39529997  0.06861746 -0.32839036  0.11367697\n  -0.33648232 -0.1581538  -0.20496881 -0.20074615]\n [-0.41735908 -0.30023247 -0.09603646 -0.300552    0.24452615  0.07124592\n  -0.53187597  0.48681566  0.32581228 -0.04838637]\n [ 0.19072998 -0.32742715 -0.09234163  0.42957628  0.03518975 -0.30726892\n   0.12107944  0.21956092  0.4583075  -0.27542874]\n [-0.12279043 -0.27562422  1.0036378   0.510247    0.17495972  0.8663367\n   0.2715671  -0.21563573 -0.1725303  -0.05956358]\n [-0.31263983 -0.27134788 -0.21842271 -0.30070716 -0.04395306  0.13705903\n   0.27393168  0.16745645 -0.1673772   0.5030848 ]\n [ 0.28603226  0.27260554  0.2321375  -0.2575853   0.15976632  0.0323655\n  -0.3192526   0.01770121  0.26531917 -0.18891454]] \nBiases:\n [ 0.01828548  0.         -0.1040727   0.          0.         -0.2120154\n  0.          0.26825118  0.          0.        ]\n------------\nWeights:\n [[-0.5690302  -0.7759148  -0.12173688]\n [ 0.44348502 -0.55907416  0.23961699]\n [-0.5740435   0.70711714 -0.04728097]\n [ 0.2522393  -0.1712653   0.5329064 ]\n [ 0.44304    -0.5396326  -0.08421683]\n [-0.0832056   0.49885908  0.578765  ]\n [-0.14115554 -0.39800233  0.01872414]\n [ 0.24351671 -0.4952256  -0.63204736]\n [ 0.63636327 -0.6169912  -0.37044236]\n [ 0.2149288   0.60588837 -0.6298909 ]] \nBiases:\n [ 0.22527064 -0.123055   -0.05564917]\n",
                    "output_type": "stream"
                }
            ],
            "execution_count": 21
        },
        {
            "cell_type": "markdown",
            "source": [
                "## Evaluate model performance\n",
                "\n",
                "So, is the model any good? The raw accuracy reported from the validation data would seem to indicate that it predicts pretty well; but it's typically useful to dig a little deeper and compare the predictions for each possible class. A common way to visualize the performance of a classification model is to create a *confusion matrix* that shows a crosstab of correct and incorrect predictions for each class."
            ],
            "metadata": {
                "azdata_cell_guid": "7157f944-5ffd-46da-b169-299c6da4bffe"
            }
        },
        {
            "cell_type": "code",
            "source": [
                "# Tensorflow doesn't have a built-in confusion matrix metric, so we'll use SciKit-Learn\r\n",
                "import numpy as np\r\n",
                "from sklearn.metrics import confusion_matrix\r\n",
                "import matplotlib.pyplot as plt\r\n",
                "%matplotlib inline\r\n",
                "\r\n",
                "\r\n",
                "class_probabilities = model.predict(x_test)\r\n",
                "predictions = np.argmax(class_probabilities, axis=1)\r\n",
                "true_labels = np.argmax(y_test, axis=1)\r\n",
                "\r\n",
                "# Plot the confusion matrix\r\n",
                "cm = confusion_matrix(true_labels, predictions)\r\n",
                "plt.imshow(cm, interpolation=\"nearest\", cmap=plt.cm.Blues)\r\n",
                "plt.colorbar()\r\n",
                "tick_marks = np.arange(len(penguin_classes))\r\n",
                "plt.xticks(tick_marks, penguin_classes, rotation=85)\r\n",
                "plt.yticks(tick_marks, penguin_classes)\r\n",
                "plt.xlabel(\"Predicted Species\")\r\n",
                "plt.ylabel(\"Actual Species\")\r\n",
                "plt.show()"
            ],
            "metadata": {
                "azdata_cell_guid": "2b6cd72b-e8a0-4cda-986a-ef0d22eb3cf6",
                "language": "python"
            },
            "outputs": [
                {
                    "name": "stdout",
                    "text": "\r 1/13 [=>............................] - ETA: 0s",
                    "output_type": "stream"
                },
                {
                    "name": "stdout",
                    "text": "\b\b\b\b\b\b\b\b\b\b\b\b\b\b\b\b\b\b\b\b\b\b\b\b\b\b\b\b\b\b\b\b\b\b\b\b\b\b\b\b\b\b\b\b\b\b\b\b\r13/13 [==============================] - 0s 832us/step\n",
                    "output_type": "stream"
                },
                {
                    "data": {
                        "text/plain": "<Figure size 432x288 with 2 Axes>",
                        "image/png": "[encoded data removed]"
                    },
                    "metadata": {
                        "needs_background": "light"
                    },
                    "output_type": "display_data"
                }
            ],
            "execution_count": 22
        },
        {
            "cell_type": "markdown",
            "source": [
                "The confusion matrix should show a strong diagonal line indicating that there are more correct than incorrect predictions for each class.\n",
                "\n",
                "## Save the trained model\n",
                "Now that we have a model we believe is reasonably accurate, we can save its trained weights for use later."
            ],
            "metadata": {
                "azdata_cell_guid": "bec4d5b3-02cd-40a7-b75f-d0e6ff0931ce"
            }
        },
        {
            "cell_type": "code",
            "source": [
                "# Save the trained model\r\n",
                "modelFileName = 'models/penguin-classifier.h5'\r\n",
                "model.save(modelFileName)\r\n",
                "del model  # deletes the existing model variable\r\n",
                "print('model saved as', modelFileName)"
            ],
            "metadata": {
                "azdata_cell_guid": "da75e5b8-4791-4efb-bbea-9654272feb91",
                "language": "python"
            },
            "outputs": [
                {
                    "name": "stdout",
                    "text": "model saved as models/penguin-classifier.h5\n",
                    "output_type": "stream"
                }
            ],
            "execution_count": 23
        },
        {
            "cell_type": "markdown",
            "source": [
                "## Use the trained model\n",
                "\n",
                "When we have a new penguin observation, we can use the model to predict the species."
            ],
            "metadata": {
                "azdata_cell_guid": "de2da6da-5b0f-4ad5-a032-1f1c5a900f28"
            }
        },
        {
            "cell_type": "code",
            "source": [
                "# Load the saved model\r\n",
                "model = models.load_model(modelFileName)\r\n",
                "\r\n",
                "# CReate a new array of features\r\n",
                "x_new = np.array([[50.4,15.3,20,50]])\r\n",
                "print ('New sample: {}'.format(x_new))\r\n",
                "\r\n",
                "# Use the model to predict the class\r\n",
                "class_probabilities = model.predict(x_new)\r\n",
                "predictions = np.argmax(class_probabilities, axis=1)\r\n",
                "\r\n",
                "print(penguin_classes[predictions[0]])"
            ],
            "metadata": {
                "tags": [],
                "azdata_cell_guid": "26187bb7-11e7-4f7f-a062-b3fbdd57379f",
                "language": "python"
            },
            "outputs": [
                {
                    "name": "stdout",
                    "text": "New sample: [[50.4 15.3 20.  50. ]]\n\r1/1 [==============================] - ETA: 0s",
                    "output_type": "stream"
                },
                {
                    "name": "stdout",
                    "text": "\b\b\b\b\b\b\b\b\b\b\b\b\b\b\b\b\b\b\b\b\b\b\b\b\b\b\b\b\b\b\b\b\b\b\b\b\b\b\b\b\b\b\b\b\b\b\r1/1 [==============================] - 0s 42ms/step\n",
                    "output_type": "stream"
                },
                {
                    "name": "stdout",
                    "text": "Gentoo\n",
                    "output_type": "stream"
                }
            ],
            "execution_count": 24
        },
        {
            "cell_type": "markdown",
            "source": [
                "## Learn more\n",
                "\n",
                "This notebook was designed to help you understand the basic concepts and principles involved in deep neural networks, using a simple Tensorflow example. To learn more about Tensorflow, take a look at the <a href=\"https://www.tensorflow.org/\" target=\"_blank\">Tensorflow web site</a>."
            ],
            "metadata": {
                "azdata_cell_guid": "94b6bc5b-9a42-4c3d-a35f-651b42623986"
            }
        }
    ]
}