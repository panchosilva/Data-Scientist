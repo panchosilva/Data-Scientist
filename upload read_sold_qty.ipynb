{
 "cells": [
  {
   "cell_type": "code",
   "execution_count": 1,
   "metadata": {},
   "outputs": [],
   "source": [
    "import pandas as pd\n",
    "import requests"
   ]
  },
  {
   "cell_type": "code",
   "execution_count": 11,
   "metadata": {},
   "outputs": [
    {
     "data": {
      "text/html": [
       "<div>\n",
       "<style scoped>\n",
       "    .dataframe tbody tr th:only-of-type {\n",
       "        vertical-align: middle;\n",
       "    }\n",
       "\n",
       "    .dataframe tbody tr th {\n",
       "        vertical-align: top;\n",
       "    }\n",
       "\n",
       "    .dataframe thead th {\n",
       "        text-align: right;\n",
       "    }\n",
       "</style>\n",
       "<table border=\"1\" class=\"dataframe\">\n",
       "  <thead>\n",
       "    <tr style=\"text-align: right;\">\n",
       "      <th></th>\n",
       "      <th>sold_quantity</th>\n",
       "    </tr>\n",
       "    <tr>\n",
       "      <th>meli_item_id</th>\n",
       "      <th></th>\n",
       "    </tr>\n",
       "  </thead>\n",
       "  <tbody>\n",
       "    <tr>\n",
       "      <th>MLC1027411662</th>\n",
       "      <td>1515</td>\n",
       "    </tr>\n",
       "    <tr>\n",
       "      <th>MLC1025868897</th>\n",
       "      <td>586</td>\n",
       "    </tr>\n",
       "    <tr>\n",
       "      <th>MLC581052505</th>\n",
       "      <td>480</td>\n",
       "    </tr>\n",
       "    <tr>\n",
       "      <th>MLC967968549</th>\n",
       "      <td>1989</td>\n",
       "    </tr>\n",
       "    <tr>\n",
       "      <th>MLC1023354590</th>\n",
       "      <td>918</td>\n",
       "    </tr>\n",
       "    <tr>\n",
       "      <th>...</th>\n",
       "      <td>...</td>\n",
       "    </tr>\n",
       "    <tr>\n",
       "      <th>MLC918443558</th>\n",
       "      <td>365</td>\n",
       "    </tr>\n",
       "    <tr>\n",
       "      <th>MLC561160965</th>\n",
       "      <td>976</td>\n",
       "    </tr>\n",
       "    <tr>\n",
       "      <th>MLC596528864</th>\n",
       "      <td>266</td>\n",
       "    </tr>\n",
       "    <tr>\n",
       "      <th>MLC560698261</th>\n",
       "      <td>1370</td>\n",
       "    </tr>\n",
       "    <tr>\n",
       "      <th>MLC596115463</th>\n",
       "      <td>403</td>\n",
       "    </tr>\n",
       "  </tbody>\n",
       "</table>\n",
       "<p>53145 rows × 1 columns</p>\n",
       "</div>"
      ],
      "text/plain": [
       "               sold_quantity\n",
       "meli_item_id                \n",
       "MLC1027411662           1515\n",
       "MLC1025868897            586\n",
       "MLC581052505             480\n",
       "MLC967968549            1989\n",
       "MLC1023354590            918\n",
       "...                      ...\n",
       "MLC918443558             365\n",
       "MLC561160965             976\n",
       "MLC596528864             266\n",
       "MLC560698261            1370\n",
       "MLC596115463             403\n",
       "\n",
       "[53145 rows x 1 columns]"
      ]
     },
     "execution_count": 11,
     "metadata": {},
     "output_type": "execute_result"
    }
   ],
   "source": [
    "data = pd.read_csv(\"G:\\My Drive\\Proyectos\\[CL Scrape] Full Meli Scrape\\\\20220901\\\\real_sold_qty_20220901.csv\").drop(columns=['Unnamed: 0'])\n",
    "data['sold_quantity'] = data['sold_quantity'].astype('int')\n",
    "data.set_index('meli_item_id', inplace=True)\n",
    "data"
   ]
  },
  {
   "cell_type": "code",
   "execution_count": 12,
   "metadata": {},
   "outputs": [],
   "source": [
    "data.to_csv(\"real_sold_qty_20220901asdasdsad.csv\")"
   ]
  },
  {
   "cell_type": "code",
   "execution_count": 14,
   "metadata": {},
   "outputs": [
    {
     "data": {
      "text/html": [
       "<div>\n",
       "<style scoped>\n",
       "    .dataframe tbody tr th:only-of-type {\n",
       "        vertical-align: middle;\n",
       "    }\n",
       "\n",
       "    .dataframe tbody tr th {\n",
       "        vertical-align: top;\n",
       "    }\n",
       "\n",
       "    .dataframe thead th {\n",
       "        text-align: right;\n",
       "    }\n",
       "</style>\n",
       "<table border=\"1\" class=\"dataframe\">\n",
       "  <thead>\n",
       "    <tr style=\"text-align: right;\">\n",
       "      <th></th>\n",
       "      <th>meli_item_id</th>\n",
       "      <th>sold_quantity</th>\n",
       "    </tr>\n",
       "  </thead>\n",
       "  <tbody>\n",
       "    <tr>\n",
       "      <th>0</th>\n",
       "      <td>MLC1027411662</td>\n",
       "      <td>1515</td>\n",
       "    </tr>\n",
       "    <tr>\n",
       "      <th>1</th>\n",
       "      <td>MLC1025868897</td>\n",
       "      <td>586</td>\n",
       "    </tr>\n",
       "    <tr>\n",
       "      <th>2</th>\n",
       "      <td>MLC581052505</td>\n",
       "      <td>480</td>\n",
       "    </tr>\n",
       "    <tr>\n",
       "      <th>3</th>\n",
       "      <td>MLC967968549</td>\n",
       "      <td>1989</td>\n",
       "    </tr>\n",
       "    <tr>\n",
       "      <th>4</th>\n",
       "      <td>MLC1023354590</td>\n",
       "      <td>918</td>\n",
       "    </tr>\n",
       "    <tr>\n",
       "      <th>...</th>\n",
       "      <td>...</td>\n",
       "      <td>...</td>\n",
       "    </tr>\n",
       "    <tr>\n",
       "      <th>53140</th>\n",
       "      <td>MLC918443558</td>\n",
       "      <td>365</td>\n",
       "    </tr>\n",
       "    <tr>\n",
       "      <th>53141</th>\n",
       "      <td>MLC561160965</td>\n",
       "      <td>976</td>\n",
       "    </tr>\n",
       "    <tr>\n",
       "      <th>53142</th>\n",
       "      <td>MLC596528864</td>\n",
       "      <td>266</td>\n",
       "    </tr>\n",
       "    <tr>\n",
       "      <th>53143</th>\n",
       "      <td>MLC560698261</td>\n",
       "      <td>1370</td>\n",
       "    </tr>\n",
       "    <tr>\n",
       "      <th>53144</th>\n",
       "      <td>MLC596115463</td>\n",
       "      <td>403</td>\n",
       "    </tr>\n",
       "  </tbody>\n",
       "</table>\n",
       "<p>53145 rows × 2 columns</p>\n",
       "</div>"
      ],
      "text/plain": [
       "        meli_item_id  sold_quantity\n",
       "0      MLC1027411662           1515\n",
       "1      MLC1025868897            586\n",
       "2       MLC581052505            480\n",
       "3       MLC967968549           1989\n",
       "4      MLC1023354590            918\n",
       "...              ...            ...\n",
       "53140   MLC918443558            365\n",
       "53141   MLC561160965            976\n",
       "53142   MLC596528864            266\n",
       "53143   MLC560698261           1370\n",
       "53144   MLC596115463            403\n",
       "\n",
       "[53145 rows x 2 columns]"
      ]
     },
     "execution_count": 14,
     "metadata": {},
     "output_type": "execute_result"
    }
   ],
   "source": [
    "pd.read_csv(\"G:\\My Drive\\Proyectos\\[CL Scrape] Full Meli Scrape\\\\20220901\\\\real_sold_qty_20220901.csv\")"
   ]
  },
  {
   "cell_type": "code",
   "execution_count": 15,
   "metadata": {},
   "outputs": [
    {
     "name": "stdout",
     "output_type": "stream",
     "text": [
      "{\"message\":\"Uploaded successfully\"}\n"
     ]
    }
   ],
   "source": [
    "file_path=\"G:\\My Drive\\Proyectos\\[CL Scrape] Full Meli Scrape\\\\20220901\\\\real_sold_qty_20220901.csv\"\n",
    "api_endpoint = 'https://datasuite.shopee.io/datahub/api/v1/usertoken/upload/csv/csv-208e945a-acf8-40e2-b057-ef50a0eae777'\n",
    "headers = {'data-ingestion-token': '04278458-07fe-44c1-9bc8-ae6619480992'}\n",
    "response = requests.post(api_endpoint, headers=headers, files={'file': open(file_path, 'rb')})\n",
    "print (response.text)"
   ]
  }
 ],
 "metadata": {
  "kernelspec": {
   "display_name": "Python 3.9.12 ('base')",
   "language": "python",
   "name": "python3"
  },
  "language_info": {
   "codemirror_mode": {
    "name": "ipython",
    "version": 3
   },
   "file_extension": ".py",
   "mimetype": "text/x-python",
   "name": "python",
   "nbconvert_exporter": "python",
   "pygments_lexer": "ipython3",
   "version": "3.9.12"
  },
  "orig_nbformat": 4,
  "vscode": {
   "interpreter": {
    "hash": "261412ca4a7cc9a72bedfc36fabb172b53a631e25a3d5d2eebc6290847b1b911"
   }
  }
 },
 "nbformat": 4,
 "nbformat_minor": 2
}
